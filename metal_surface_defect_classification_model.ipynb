{
  "cells": [
    {
      "cell_type": "markdown",
      "metadata": {
        "id": "view-in-github",
        "colab_type": "text"
      },
      "source": [
        "<a href=\"https://colab.research.google.com/github/peksikeksi/metal-surface-defect-classification-model/blob/master/metal_surface_defect_classification_model.ipynb\" target=\"_parent\"><img src=\"https://colab.research.google.com/assets/colab-badge.svg\" alt=\"Open In Colab\"/></a>"
      ]
    },
    {
      "cell_type": "code",
      "execution_count": 1,
      "metadata": {
        "id": "6q58csl31cpv"
      },
      "outputs": [],
      "source": [
        "import tensorflow as tf\n",
        "import numpy as np\n",
        "import matplotlib.pyplot as plt\n",
        "import sklearn\n",
        "import cv2\n",
        "from sklearn.metrics import confusion_matrix, roc_curve\n",
        "import seaborn as sns\n",
        "from datetime import datetime\n",
        "import pathlib\n",
        "import io\n",
        "import os\n",
        "import time\n",
        "import random\n",
        "import shutil\n",
        "import tensorflow_probability as tfp\n",
        "from PIL import Image\n",
        "from tensorflow.keras.models import Model, load_model\n",
        "from tensorflow.keras.layers import Layer, Concatenate, Lambda\n",
        "from tensorflow.keras.layers import (Layer, GlobalAveragePooling2D, AveragePooling2D, Activation, MaxPooling2D, Add, Conv2D, MaxPool2D, Dense, Flatten,\n",
        "                                     InputLayer, BatchNormalization, Input, RandomContrast, GaussianNoise, RandomContrast, Rescaling, Resizing, Reshape, RandomBrightness)\n",
        "from tensorflow.keras.losses import CategoricalCrossentropy\n",
        "from tensorflow.keras.metrics import Accuracy, TopKCategoricalAccuracy, CategoricalAccuracy, F1Score\n",
        "from tensorflow.keras.optimizers import Adam\n",
        "from tensorflow.keras.callbacks import LearningRateScheduler, ModelCheckpoint, ReduceLROnPlateau\n",
        "from tensorflow.keras.preprocessing.image import ImageDataGenerator\n",
        "from tensorflow.keras.applications.resnet_v2 import preprocess_input\n",
        "from tensorflow.data import AUTOTUNE"
      ]
    },
    {
      "cell_type": "markdown",
      "metadata": {
        "id": "SZWjPSevKnuU"
      },
      "source": [
        "### Configuration Parameters"
      ]
    },
    {
      "cell_type": "code",
      "execution_count": 2,
      "metadata": {
        "id": "T6Pz-fTd1nXm"
      },
      "outputs": [],
      "source": [
        "BATCH_SIZE = 32\n",
        "IMAGE_SIZE = 256\n",
        "LEARNING_RATE = 1e-2\n",
        "NUM_EPOCHS = 30\n",
        "NUM_FILTERS = 6\n",
        "KERNEL_SIZE = 3\n",
        "STRIDES = 1\n",
        "POOL_SIZE = 2\n",
        "DENSE_UNITS_1 = 1024\n",
        "DENSE_UNITS_2 = 128\n",
        "NUM_CLASSES = 10\n",
        "CLASS_NAMES = ['crease', 'crescent_gap', 'inclusion', 'oil_spot', 'punching_hole', 'rolled_pit', 'silk_spot', 'waist folding', 'water_spot', 'welding_line']\n",
        "TRAIN_DIRECTORY = '/content/dataset/training_set'\n",
        "VAL_DIRECTORY = '/content/dataset/validation_set'\n",
        "TEST_DIRECTORY = '/content/dataset/test_set'"
      ]
    },
    {
      "cell_type": "markdown",
      "metadata": {
        "id": "sw2sdYbR6-BM"
      },
      "source": [
        "### Data Preparation and Preprocessing"
      ]
    },
    {
      "cell_type": "code",
      "execution_count": 3,
      "metadata": {
        "colab": {
          "base_uri": "https://localhost:8080/"
        },
        "id": "v9HX3hcK1sZb",
        "outputId": "35f671b1-e231-4b3c-d3d3-cdb94859a1e9"
      },
      "outputs": [
        {
          "output_type": "stream",
          "name": "stdout",
          "text": [
            "Dataset URL: https://www.kaggle.com/datasets/zhangyunsheng/defects-class-and-location\n",
            "License(s): unknown\n",
            "Downloading defects-class-and-location.zip to /content\n",
            " 99% 913M/923M [00:13<00:00, 65.4MB/s]\n",
            "100% 923M/923M [00:13<00:00, 71.3MB/s]\n",
            "Dataset downloaded and unzipped successfully.\n"
          ]
        }
      ],
      "source": [
        "# Install Kaggle API\n",
        "!pip install -q kaggle\n",
        "\n",
        "# Set up Kaggle credentials\n",
        "!mkdir -p ~/.kaggle  # Create the hidden directory if it doesn't exist\n",
        "!cp kaggle.json ~/.kaggle/  # Copy kaggle.json to the hidden directory\n",
        "!chmod 600 ~/.kaggle/kaggle.json  # Set permissions for your user only\n",
        "\n",
        "# Download and unzip the dataset\n",
        "try:\n",
        "    # Check if the dataset file exists before downloading\n",
        "    if not os.path.exists('/content/defects-class-and-location'):\n",
        "        !kaggle datasets download -d zhangyunsheng/defects-class-and-location\n",
        "\n",
        "    # Check if the dataset directory exists before unzipping\n",
        "    if not os.path.exists('/content/dataset'):\n",
        "        !mkdir /content/dataset\n",
        "\n",
        "    !unzip -q '/content/defects-class-and-location.zip' -d '/content/dataset/'\n",
        "\n",
        "    print(\"Dataset downloaded and unzipped successfully.\")\n",
        "except Exception as e:\n",
        "    print(\"Error:\", e)"
      ]
    },
    {
      "cell_type": "code",
      "execution_count": 4,
      "metadata": {
        "id": "Ol7og11DIkkT",
        "colab": {
          "base_uri": "https://localhost:8080/"
        },
        "outputId": "298348bc-a74e-4d95-962b-7c31daeced46"
      },
      "outputs": [
        {
          "output_type": "stream",
          "name": "stdout",
          "text": [
            "Category: silk_spot, Number of images: 650\n",
            "Category: water_spot, Number of images: 289\n",
            "Category: inclusion, Number of images: 216\n",
            "Category: punching_hole, Number of images: 219\n",
            "Category: crease, Number of images: 52\n",
            "Category: oil_spot, Number of images: 204\n",
            "Category: welding_line, Number of images: 273\n",
            "Category: waist folding, Number of images: 146\n",
            "Category: crescent_gap, Number of images: 226\n",
            "Category: rolled_pit, Number of images: 31\n",
            "\n",
            "\n",
            "Total number of images in the dataset: 2306\n",
            "\n",
            "\n",
            "The dataset is not balanced.\n",
            "Smallest category has 31 images.\n",
            "Largest category has 650 images.\n",
            "\n",
            "\n",
            "Class weights:\n",
            "Class 0: 0.0015384615384615385\n",
            "Class 1: 0.0034602076124567475\n",
            "Class 2: 0.004629629629629629\n",
            "Class 3: 0.0045662100456621\n",
            "Class 4: 0.019230769230769232\n",
            "Class 5: 0.004901960784313725\n",
            "Class 6: 0.003663003663003663\n",
            "Class 7: 0.00684931506849315\n",
            "Class 8: 0.004424778761061947\n",
            "Class 9: 0.03225806451612903\n"
          ]
        }
      ],
      "source": [
        "# Define the path to your dataset\n",
        "dataset_path = \"/content/dataset/images/images\"\n",
        "\n",
        "# Initialize a dictionary to store the count of images per category\n",
        "category_counts = {}\n",
        "total_images = 0  # Initialize a counter for the total number of images\n",
        "\n",
        "# Iterate through each category folder\n",
        "for category_folder in os.listdir(dataset_path):\n",
        "    category_path = os.path.join(dataset_path, category_folder)\n",
        "\n",
        "    if os.path.isdir(category_path):\n",
        "        # Get list of image files in the current category\n",
        "        image_files = os.listdir(category_path)\n",
        "        # Count the number of images in the current category\n",
        "        num_images = len([f for f in image_files if os.path.isfile(os.path.join(category_path, f))])\n",
        "\n",
        "        # Store the count in the dictionary\n",
        "        category_counts[category_folder] = num_images\n",
        "        # Update the total image count\n",
        "        total_images += num_images\n",
        "\n",
        "# Create class weights dictionary\n",
        "class_weights = {idx: 1 / count for idx, (category, count) in enumerate(category_counts.items())}\n",
        "\n",
        "# Print the number of images in each category\n",
        "for category, count in category_counts.items():\n",
        "    print(f\"Category: {category}, Number of images: {count}\")\n",
        "\n",
        "# Print the total number of images in the dataset\n",
        "print(f\"\\n\\nTotal number of images in the dataset: {total_images}\\n\\n\")\n",
        "\n",
        "# Determine if the dataset is balanced\n",
        "min_images = min(category_counts.values())\n",
        "max_images = max(category_counts.values())\n",
        "\n",
        "if min_images == max_images:\n",
        "    print(\"The dataset is perfectly balanced.\")\n",
        "else:\n",
        "    print(\"The dataset is not balanced.\")\n",
        "    print(f\"Smallest category has {min_images} images.\")\n",
        "    print(f\"Largest category has {max_images} images.\")\n",
        "\n",
        "# Print the class weights\n",
        "print(\"\\n\\nClass weights:\")\n",
        "for idx, weight in class_weights.items():\n",
        "    print(f\"Class {idx}: {weight}\")"
      ]
    },
    {
      "cell_type": "code",
      "execution_count": 5,
      "metadata": {
        "id": "vCNCa5BFHskh",
        "colab": {
          "base_uri": "https://localhost:8080/"
        },
        "outputId": "ce874548-d7f6-4b64-fb27-47c34ac1a90d"
      },
      "outputs": [
        {
          "output_type": "stream",
          "name": "stdout",
          "text": [
            "Normalized class weights:\n",
            "Class 0: 0.01798898912064259\n",
            "Class 1: 0.04045966411217192\n",
            "Class 2: 0.054133532076007795\n",
            "Class 3: 0.05339197684208988\n",
            "Class 4: 0.22486236400803242\n",
            "Class 5: 0.05731785749224355\n",
            "Class 6: 0.04283092647772046\n",
            "Class 7: 0.08008796526313482\n",
            "Class 8: 0.05173824304609595\n",
            "Class 9: 0.3771884815618608\n"
          ]
        }
      ],
      "source": [
        "# Normalize class weights (optional step)\n",
        "total_weight = sum(class_weights.values())\n",
        "normalized_class_weights = {k: v / total_weight for k, v in class_weights.items()}\n",
        "\n",
        "# Print normalized class weights\n",
        "print(\"Normalized class weights:\")\n",
        "for idx, weight in normalized_class_weights.items():\n",
        "    print(f\"Class {idx}: {weight}\")"
      ]
    },
    {
      "cell_type": "code",
      "execution_count": 6,
      "metadata": {
        "id": "XsNTNDHQ2aOg",
        "colab": {
          "base_uri": "https://localhost:8080/"
        },
        "outputId": "cf6f9e6f-81f4-419e-fa3b-b262b255644a"
      },
      "outputs": [
        {
          "output_type": "stream",
          "name": "stdout",
          "text": [
            "Data preprocessing and splitting complete.\n"
          ]
        }
      ],
      "source": [
        "# Define paths to your dataset folders\n",
        "dataset_path = \"/content/dataset/images/images\"\n",
        "train_path = \"/content/dataset/training_set\"\n",
        "validation_path = \"/content/dataset/validation_set\"\n",
        "test_path = \"/content/dataset/test_set\"\n",
        "\n",
        "# Define the target size for resizing images\n",
        "target_size = (256, 256)\n",
        "\n",
        "# Create train, validation, and test directories if they don't exist\n",
        "os.makedirs(train_path, exist_ok=True)\n",
        "os.makedirs(validation_path, exist_ok=True)\n",
        "os.makedirs(test_path, exist_ok=True)\n",
        "\n",
        "# Define the ratios of data to be used for training, validation, and test\n",
        "train_ratio = 0.7\n",
        "validation_ratio = 0.15\n",
        "test_ratio = 0.15\n",
        "\n",
        "# Ensure the ratios sum to 1.0\n",
        "assert train_ratio + validation_ratio + test_ratio == 1.0, \"Ratios must sum to 1.0\"\n",
        "\n",
        "# Iterate through each category folder\n",
        "for category_folder in os.listdir(dataset_path):\n",
        "    category_path = os.path.join(dataset_path, category_folder)\n",
        "    train_category_path = os.path.join(train_path, category_folder)\n",
        "    validation_category_path = os.path.join(validation_path, category_folder)\n",
        "    test_category_path = os.path.join(test_path, category_folder)\n",
        "    os.makedirs(train_category_path, exist_ok=True)\n",
        "    os.makedirs(validation_category_path, exist_ok=True)\n",
        "    os.makedirs(test_category_path, exist_ok=True)\n",
        "\n",
        "    # Get list of image files in the current category\n",
        "    image_files = os.listdir(category_path)\n",
        "    # Shuffle the list of image files\n",
        "    random.shuffle(image_files)\n",
        "\n",
        "    # Calculate the number of images for each set\n",
        "    num_train = int(len(image_files) * train_ratio)\n",
        "    num_validation = int(len(image_files) * validation_ratio)\n",
        "    num_test = len(image_files) - num_train - num_validation\n",
        "\n",
        "    # Split the image files into train, validation, and test sets based on the defined ratios\n",
        "    train_images = image_files[:num_train]\n",
        "    validation_images = image_files[num_train:num_train + num_validation]\n",
        "    test_images = image_files[num_train + num_validation:]\n",
        "\n",
        "    # Function to resize and save images\n",
        "    def resize_and_save(src, dst, size):\n",
        "        with Image.open(src) as img:\n",
        "            img = img.resize(size, Image.LANCZOS)\n",
        "            img.save(dst)\n",
        "\n",
        "    # Move and resize images to train directory\n",
        "    for image_file in train_images:\n",
        "        src = os.path.join(category_path, image_file)\n",
        "        dst = os.path.join(train_category_path, image_file)\n",
        "        resize_and_save(src, dst, target_size)\n",
        "\n",
        "    # Move and resize images to validation directory\n",
        "    for image_file in validation_images:\n",
        "        src = os.path.join(category_path, image_file)\n",
        "        dst = os.path.join(validation_category_path, image_file)\n",
        "        resize_and_save(src, dst, target_size)\n",
        "\n",
        "    # Move and resize images to test directory\n",
        "    for image_file in test_images:\n",
        "        src = os.path.join(category_path, image_file)\n",
        "        dst = os.path.join(test_category_path, image_file)\n",
        "        resize_and_save(src, dst, target_size)\n",
        "\n",
        "print(\"Data preprocessing and splitting complete.\")"
      ]
    },
    {
      "cell_type": "code",
      "execution_count": 7,
      "metadata": {
        "id": "RBKJVHas4PI8",
        "colab": {
          "base_uri": "https://localhost:8080/"
        },
        "outputId": "a8fea78a-e974-470f-f5bc-22f53a037524"
      },
      "outputs": [
        {
          "output_type": "stream",
          "name": "stdout",
          "text": [
            "Image /content/dataset/training_set/silk_spot/img_05_4406743300_00516.jpg has the correct size (256, 256)\n",
            "Image /content/dataset/validation_set/silk_spot/img_01_425005700_00325.jpg has the correct size (256, 256)\n",
            "Image /content/dataset/test_set/silk_spot/img_05_4406743300_00405.jpg has the correct size (256, 256)\n"
          ]
        }
      ],
      "source": [
        "def check_image_size(image_path, expected_size):\n",
        "    with Image.open(image_path) as img:\n",
        "        actual_size = img.size\n",
        "        assert actual_size == expected_size, f\"Image {image_path} has size {actual_size} instead of {expected_size}\"\n",
        "        print(f\"Image {image_path} has the correct size {actual_size}\")\n",
        "\n",
        "def get_first_image_path(folder_path):\n",
        "    for category_folder in os.listdir(folder_path):\n",
        "        category_path = os.path.join(folder_path, category_folder)\n",
        "        if os.path.isdir(category_path):\n",
        "            for image_file in os.listdir(category_path):\n",
        "                return os.path.join(category_path, image_file)\n",
        "    return None\n",
        "\n",
        "# Check an image from the training set\n",
        "train_image_path = get_first_image_path(train_path)\n",
        "if train_image_path:\n",
        "    check_image_size(train_image_path, target_size)\n",
        "else:\n",
        "    print(\"No images found in the training set.\")\n",
        "\n",
        "# Check an image from the validation set\n",
        "validation_image_path = get_first_image_path(validation_path)\n",
        "if validation_image_path:\n",
        "    check_image_size(validation_image_path, target_size)\n",
        "else:\n",
        "    print(\"No images found in the validation set.\")\n",
        "\n",
        "# Check an image from the test set\n",
        "test_image_path = get_first_image_path(test_path)\n",
        "if test_image_path:\n",
        "    check_image_size(test_image_path, target_size)\n",
        "else:\n",
        "    print(\"No images found in the test set.\")"
      ]
    },
    {
      "cell_type": "code",
      "execution_count": 8,
      "metadata": {
        "id": "gJcmVMml8K9c",
        "colab": {
          "base_uri": "https://localhost:8080/"
        },
        "outputId": "8f3345e8-cf15-4d9f-b5e7-cd282efd57ea"
      },
      "outputs": [
        {
          "output_type": "stream",
          "name": "stdout",
          "text": [
            "Found 1610 files belonging to 10 classes.\n"
          ]
        }
      ],
      "source": [
        "# Define data augmentation layers\n",
        "data_augmentation = tf.keras.Sequential([\n",
        "    tf.keras.layers.RandomFlip(mode='horizontal_and_vertical', seed=42),  # Randomly flip images\n",
        "    # tf.keras.layers.Rescaling(scale=1./255)\n",
        "])\n",
        "\n",
        "train_dataset = tf.keras.utils.image_dataset_from_directory(TRAIN_DIRECTORY,\n",
        "                                                            labels='inferred',\n",
        "                                                            label_mode='categorical',\n",
        "                                                            class_names=CLASS_NAMES,\n",
        "                                                            color_mode='rgb',\n",
        "                                                            batch_size=BATCH_SIZE,\n",
        "                                                            image_size=(IMAGE_SIZE, IMAGE_SIZE),\n",
        "                                                            shuffle=True,\n",
        "                                                            seed=42)\n",
        "\n",
        "# Apply data augmentation to the training dataset\n",
        "train_dataset = train_dataset.map(lambda x, y: (data_augmentation(x), y))"
      ]
    },
    {
      "cell_type": "code",
      "execution_count": 9,
      "metadata": {
        "id": "ucE4EoYYUNyU",
        "colab": {
          "base_uri": "https://localhost:8080/"
        },
        "outputId": "c416a1cc-b75d-4a1b-c604-ad22ae7db56b"
      },
      "outputs": [
        {
          "output_type": "execute_result",
          "data": {
            "text/plain": [
              "<_MapDataset element_spec=(TensorSpec(shape=(None, 256, 256, 3), dtype=tf.float32, name=None), TensorSpec(shape=(None, 10), dtype=tf.float32, name=None))>"
            ]
          },
          "metadata": {},
          "execution_count": 9
        }
      ],
      "source": [
        "train_dataset"
      ]
    },
    {
      "cell_type": "code",
      "execution_count": null,
      "metadata": {
        "id": "M6TJTpltHhDF"
      },
      "outputs": [],
      "source": [
        "# for image, label in train_dataset.take(1):\n",
        "#     print(\"Image values:\\n\", image[0].numpy())\n",
        "#     print(\"Label values:\\n\", label[0].numpy())"
      ]
    },
    {
      "cell_type": "code",
      "execution_count": 10,
      "metadata": {
        "id": "dAnF9ATA9R23",
        "colab": {
          "base_uri": "https://localhost:8080/"
        },
        "outputId": "451df6ea-6553-45d5-9be7-1e1d5724dedd"
      },
      "outputs": [
        {
          "output_type": "stream",
          "name": "stdout",
          "text": [
            "Found 339 files belonging to 10 classes.\n"
          ]
        }
      ],
      "source": [
        "validation_dataset = tf.keras.utils.image_dataset_from_directory(VAL_DIRECTORY,\n",
        "                                                            labels='inferred',\n",
        "                                                            label_mode='categorical',\n",
        "                                                            class_names=CLASS_NAMES,\n",
        "                                                            color_mode='rgb',\n",
        "                                                            batch_size=BATCH_SIZE,\n",
        "                                                            image_size=(IMAGE_SIZE, IMAGE_SIZE),\n",
        "                                                            shuffle=True,\n",
        "                                                            seed=42)"
      ]
    },
    {
      "cell_type": "code",
      "execution_count": 11,
      "metadata": {
        "id": "w6FMJfK-9Scv",
        "colab": {
          "base_uri": "https://localhost:8080/"
        },
        "outputId": "a90815ee-7527-4b84-a133-534c57391f24"
      },
      "outputs": [
        {
          "output_type": "stream",
          "name": "stdout",
          "text": [
            "Found 357 files belonging to 10 classes.\n"
          ]
        }
      ],
      "source": [
        "test_dataset = tf.keras.utils.image_dataset_from_directory(TEST_DIRECTORY,\n",
        "                                                            labels='inferred',\n",
        "                                                            label_mode='categorical',\n",
        "                                                            class_names=CLASS_NAMES,\n",
        "                                                            color_mode='rgb',\n",
        "                                                            batch_size=BATCH_SIZE,\n",
        "                                                            image_size=(IMAGE_SIZE, IMAGE_SIZE),\n",
        "                                                            shuffle=True,\n",
        "                                                            seed=42)"
      ]
    },
    {
      "cell_type": "code",
      "execution_count": null,
      "metadata": {
        "id": "e_2tvozu9etp"
      },
      "outputs": [],
      "source": [
        "def display_images_from_dataset(dataset, num_images):\n",
        "    plt.figure(figsize=(10, 10))\n",
        "    for images, labels in dataset.take(1):  # Take a single batch from the dataset\n",
        "        for i in range(num_images):\n",
        "            ax = plt.subplot(3, 3, i + 1)\n",
        "            if images.shape[-1] == 1:  # If grayscale, remove the last dimension\n",
        "                plt.imshow(images[i].numpy().squeeze())\n",
        "            else:\n",
        "                plt.imshow(images[i].numpy().astype(\"uint8\"))\n",
        "            plt.title(CLASS_NAMES[tf.argmax(labels[i])])\n",
        "            plt.axis(\"off\")\n",
        "    plt.show()"
      ]
    },
    {
      "cell_type": "code",
      "execution_count": null,
      "metadata": {
        "id": "Z6g4FFcP-PLf",
        "colab": {
          "base_uri": "https://localhost:8080/",
          "height": 829
        },
        "outputId": "5696b535-c3be-4d72-a3eb-db025a48adca"
      },
      "outputs": [
        {
          "output_type": "display_data",
          "data": {
            "text/plain": [
              "<Figure size 1000x1000 with 9 Axes>"
            ],
            "image/png": "[encoded data removed]"
          },
          "metadata": {}
        }
      ],
      "source": [
        "# Display 9 images from the training set\n",
        "display_images_from_dataset(train_dataset, num_images=9)"
      ]
    },
    {
      "cell_type": "code",
      "source": [
        "# Prefetch the datasets for performance optimization\n",
        "train_dataset = train_dataset.prefetch(buffer_size=AUTOTUNE)\n",
        "validation_dataset = validation_dataset.prefetch(buffer_size=AUTOTUNE)"
      ],
      "metadata": {
        "id": "tLejrcPq0qP0"
      },
      "execution_count": null,
      "outputs": []
    },
    {
      "cell_type": "markdown",
      "metadata": {
        "id": "qFnnbsI6Cn32"
      },
      "source": [
        "### Modeling"
      ]
    },
    {
      "cell_type": "markdown",
      "metadata": {
        "id": "T4LrDgUmUaWy"
      },
      "source": [
        "#### EfficientNetB5"
      ]
    },
    {
      "cell_type": "code",
      "execution_count": null,
      "metadata": {
        "colab": {
          "base_uri": "https://localhost:8080/"
        },
        "id": "qSTsRp9d-7ZE",
        "outputId": "be1de719-8eb2-4ace-fa7d-619c65c7f25a"
      },
      "outputs": [
        {
          "output_type": "stream",
          "name": "stdout",
          "text": [
            "Downloading data from https://storage.googleapis.com/keras-applications/efficientnetb5_notop.h5\n",
            "115263384/115263384 [==============================] - 1s 0us/step\n"
          ]
        }
      ],
      "source": [
        "efficient_netB5 = tf.keras.applications.EfficientNetB5(\n",
        "    include_top=False,\n",
        "    weights='imagenet',\n",
        "    input_shape=(IMAGE_SIZE, IMAGE_SIZE, 3),\n",
        ")\n",
        "\n",
        "efficient_netB5.trainable = False"
      ]
    },
    {
      "cell_type": "code",
      "execution_count": null,
      "metadata": {
        "colab": {
          "base_uri": "https://localhost:8080/"
        },
        "id": "SgpO8MIq74EP",
        "outputId": "1599bdd4-7cf7-4a5a-cc84-3c92b00eb930"
      },
      "outputs": [
        {
          "output_type": "stream",
          "name": "stdout",
          "text": [
            "Model: \"model\"\n",
            "_________________________________________________________________\n",
            " Layer (type)                Output Shape              Param #   \n",
            "=================================================================\n",
            " input_2 (InputLayer)        [(None, 256, 256, 3)]     0         \n",
            "                                                                 \n",
            " efficientnetb5 (Functional  (None, 8, 8, 2048)        28513527  \n",
            " )                                                               \n",
            "                                                                 \n",
            " global_average_pooling2d (  (None, 2048)              0         \n",
            " GlobalAveragePooling2D)                                         \n",
            "                                                                 \n",
            " dense (Dense)               (None, 1024)              2098176   \n",
            "                                                                 \n",
            " batch_normalization (Batch  (None, 1024)              4096      \n",
            " Normalization)                                                  \n",
            "                                                                 \n",
            " dense_1 (Dense)             (None, 128)               131200    \n",
            "                                                                 \n",
            " dense_2 (Dense)             (None, 10)                1290      \n",
            "                                                                 \n",
            "=================================================================\n",
            "Total params: 30748289 (117.30 MB)\n",
            "Trainable params: 2232714 (8.52 MB)\n",
            "Non-trainable params: 28515575 (108.78 MB)\n",
            "_________________________________________________________________\n"
          ]
        }
      ],
      "source": [
        "input = Input(shape=(IMAGE_SIZE, IMAGE_SIZE, 3))\n",
        "\n",
        "x = efficient_netB5(input, training=False)\n",
        "\n",
        "x = GlobalAveragePooling2D()(x)\n",
        "x = Dense(DENSE_UNITS_1, activation='relu')(x)\n",
        "x = BatchNormalization()(x)\n",
        "x = Dense(DENSE_UNITS_2, activation='relu')(x)\n",
        "output = Dense(NUM_CLASSES, activation='softmax')(x)\n",
        "\n",
        "efficient_netB5_model = Model(input, output)\n",
        "\n",
        "efficient_netB5_model.summary()"
      ]
    },
    {
      "cell_type": "code",
      "execution_count": null,
      "metadata": {
        "id": "TZNyIkYXmh5J"
      },
      "outputs": [],
      "source": [
        "plateau_callback = ReduceLROnPlateau(monitor='val_accuracy', factor=0.1, patience=5, verbose=1)\n",
        "\n",
        "loss_function = CategoricalCrossentropy(from_logits=False)\n",
        "\n",
        "metrics = [CategoricalAccuracy(name='accuracy'), TopKCategoricalAccuracy(k=2, name='top_k_accuracy'), F1Score(name='f1_score')]"
      ]
    },
    {
      "cell_type": "code",
      "execution_count": null,
      "metadata": {
        "id": "s7w_sCg-K-E3"
      },
      "outputs": [],
      "source": [
        "efficient_netB5_model.compile(\n",
        "    optimizer=Adam(learning_rate=LEARNING_RATE),\n",
        "    loss = loss_function,\n",
        "    metrics = metrics\n",
        ")"
      ]
    },
    {
      "cell_type": "code",
      "execution_count": null,
      "metadata": {
        "colab": {
          "base_uri": "https://localhost:8080/"
        },
        "id": "0jsbJIFELh8i",
        "outputId": "b2fa2802-27df-422e-db6e-b8338f87d491"
      },
      "outputs": [
        {
          "output_type": "stream",
          "name": "stdout",
          "text": [
            "Epoch 1/30\n",
            "51/51 [==============================] - 46s 461ms/step - loss: 0.0211 - accuracy: 0.5441 - top_k_accuracy: 0.7236 - f1_score: 0.4189 - val_loss: 22.1256 - val_accuracy: 0.3451 - val_top_k_accuracy: 0.5516 - val_f1_score: 0.1325 - lr: 0.0100\n",
            "Epoch 2/30\n",
            "51/51 [==============================] - 16s 301ms/step - loss: 0.0063 - accuracy: 0.6689 - top_k_accuracy: 0.8503 - f1_score: 0.5722 - val_loss: 2.7759 - val_accuracy: 0.6490 - val_top_k_accuracy: 0.8702 - val_f1_score: 0.5158 - lr: 0.0100\n",
            "Epoch 3/30\n",
            "51/51 [==============================] - 16s 302ms/step - loss: 0.0049 - accuracy: 0.7068 - top_k_accuracy: 0.8758 - f1_score: 0.6027 - val_loss: 1.7504 - val_accuracy: 0.6755 - val_top_k_accuracy: 0.8702 - val_f1_score: 0.5865 - lr: 0.0100\n",
            "Epoch 4/30\n",
            "51/51 [==============================] - 16s 309ms/step - loss: 0.0036 - accuracy: 0.7559 - top_k_accuracy: 0.9062 - f1_score: 0.6701 - val_loss: 1.3705 - val_accuracy: 0.6932 - val_top_k_accuracy: 0.8997 - val_f1_score: 0.6055 - lr: 0.0100\n",
            "Epoch 5/30\n",
            "51/51 [==============================] - 16s 305ms/step - loss: 0.0036 - accuracy: 0.7590 - top_k_accuracy: 0.9118 - f1_score: 0.6873 - val_loss: 1.1419 - val_accuracy: 0.7581 - val_top_k_accuracy: 0.8761 - val_f1_score: 0.7296 - lr: 0.0100\n",
            "Epoch 6/30\n",
            "51/51 [==============================] - 16s 316ms/step - loss: 0.0035 - accuracy: 0.7758 - top_k_accuracy: 0.9168 - f1_score: 0.6906 - val_loss: 1.3060 - val_accuracy: 0.7080 - val_top_k_accuracy: 0.8437 - val_f1_score: 0.6488 - lr: 0.0100\n",
            "Epoch 7/30\n",
            "51/51 [==============================] - 16s 311ms/step - loss: 0.0028 - accuracy: 0.8062 - top_k_accuracy: 0.9335 - f1_score: 0.7550 - val_loss: 0.6918 - val_accuracy: 0.8112 - val_top_k_accuracy: 0.9233 - val_f1_score: 0.7587 - lr: 0.0100\n",
            "Epoch 8/30\n",
            "51/51 [==============================] - 16s 311ms/step - loss: 0.0030 - accuracy: 0.8006 - top_k_accuracy: 0.9373 - f1_score: 0.7477 - val_loss: 1.1914 - val_accuracy: 0.7493 - val_top_k_accuracy: 0.8850 - val_f1_score: 0.6859 - lr: 0.0100\n",
            "Epoch 9/30\n",
            "51/51 [==============================] - 16s 312ms/step - loss: 0.0031 - accuracy: 0.8112 - top_k_accuracy: 0.9329 - f1_score: 0.7436 - val_loss: 0.7639 - val_accuracy: 0.7935 - val_top_k_accuracy: 0.9174 - val_f1_score: 0.6748 - lr: 0.0100\n",
            "Epoch 10/30\n",
            "51/51 [==============================] - 16s 311ms/step - loss: 0.0025 - accuracy: 0.8311 - top_k_accuracy: 0.9528 - f1_score: 0.7889 - val_loss: 0.6838 - val_accuracy: 0.8348 - val_top_k_accuracy: 0.9233 - val_f1_score: 0.7798 - lr: 0.0100\n",
            "Epoch 11/30\n",
            "51/51 [==============================] - 16s 311ms/step - loss: 0.0026 - accuracy: 0.8236 - top_k_accuracy: 0.9584 - f1_score: 0.7873 - val_loss: 0.8450 - val_accuracy: 0.7876 - val_top_k_accuracy: 0.8938 - val_f1_score: 0.7089 - lr: 0.0100\n",
            "Epoch 12/30\n",
            "51/51 [==============================] - 16s 311ms/step - loss: 0.0024 - accuracy: 0.8509 - top_k_accuracy: 0.9652 - f1_score: 0.7924 - val_loss: 1.0131 - val_accuracy: 0.7581 - val_top_k_accuracy: 0.9145 - val_f1_score: 0.6857 - lr: 0.0100\n",
            "Epoch 13/30\n",
            "51/51 [==============================] - 16s 314ms/step - loss: 0.0028 - accuracy: 0.8230 - top_k_accuracy: 0.9522 - f1_score: 0.7746 - val_loss: 1.0883 - val_accuracy: 0.7699 - val_top_k_accuracy: 0.8938 - val_f1_score: 0.6926 - lr: 0.0100\n",
            "Epoch 14/30\n",
            "51/51 [==============================] - 16s 311ms/step - loss: 0.0039 - accuracy: 0.7596 - top_k_accuracy: 0.9006 - f1_score: 0.7104 - val_loss: 1.0985 - val_accuracy: 0.7788 - val_top_k_accuracy: 0.8879 - val_f1_score: 0.7007 - lr: 0.0100\n",
            "Epoch 15/30\n",
            "51/51 [==============================] - ETA: 0s - loss: 0.0028 - accuracy: 0.8161 - top_k_accuracy: 0.9385 - f1_score: 0.7608\n",
            "Epoch 15: ReduceLROnPlateau reducing learning rate to 0.0009999999776482583.\n",
            "51/51 [==============================] - 17s 338ms/step - loss: 0.0028 - accuracy: 0.8161 - top_k_accuracy: 0.9385 - f1_score: 0.7608 - val_loss: 0.8055 - val_accuracy: 0.8230 - val_top_k_accuracy: 0.9233 - val_f1_score: 0.7581 - lr: 0.0100\n",
            "Epoch 16/30\n",
            "51/51 [==============================] - 16s 314ms/step - loss: 0.0019 - accuracy: 0.8491 - top_k_accuracy: 0.9516 - f1_score: 0.8185 - val_loss: 0.6373 - val_accuracy: 0.8496 - val_top_k_accuracy: 0.9410 - val_f1_score: 0.7796 - lr: 1.0000e-03\n",
            "Epoch 17/30\n",
            "51/51 [==============================] - 17s 322ms/step - loss: 0.0016 - accuracy: 0.8764 - top_k_accuracy: 0.9640 - f1_score: 0.8570 - val_loss: 0.6368 - val_accuracy: 0.8525 - val_top_k_accuracy: 0.9381 - val_f1_score: 0.7835 - lr: 1.0000e-03\n",
            "Epoch 18/30\n",
            "51/51 [==============================] - 17s 323ms/step - loss: 0.0014 - accuracy: 0.8826 - top_k_accuracy: 0.9733 - f1_score: 0.8577 - val_loss: 0.6703 - val_accuracy: 0.8437 - val_top_k_accuracy: 0.9263 - val_f1_score: 0.7761 - lr: 1.0000e-03\n",
            "Epoch 19/30\n",
            "51/51 [==============================] - 17s 321ms/step - loss: 0.0014 - accuracy: 0.8925 - top_k_accuracy: 0.9714 - f1_score: 0.8782 - val_loss: 0.6707 - val_accuracy: 0.8437 - val_top_k_accuracy: 0.9322 - val_f1_score: 0.7765 - lr: 1.0000e-03\n",
            "Epoch 20/30\n",
            "51/51 [==============================] - 16s 315ms/step - loss: 0.0012 - accuracy: 0.9081 - top_k_accuracy: 0.9764 - f1_score: 0.8928 - val_loss: 0.6766 - val_accuracy: 0.8437 - val_top_k_accuracy: 0.9263 - val_f1_score: 0.7763 - lr: 1.0000e-03\n",
            "Epoch 21/30\n",
            "51/51 [==============================] - 17s 320ms/step - loss: 0.0013 - accuracy: 0.8950 - top_k_accuracy: 0.9745 - f1_score: 0.8791 - val_loss: 0.6640 - val_accuracy: 0.8437 - val_top_k_accuracy: 0.9322 - val_f1_score: 0.7764 - lr: 1.0000e-03\n",
            "Epoch 22/30\n",
            "51/51 [==============================] - ETA: 0s - loss: 0.0011 - accuracy: 0.9081 - top_k_accuracy: 0.9820 - f1_score: 0.8930\n",
            "Epoch 22: ReduceLROnPlateau reducing learning rate to 9.999999310821295e-05.\n",
            "51/51 [==============================] - 17s 319ms/step - loss: 0.0011 - accuracy: 0.9081 - top_k_accuracy: 0.9820 - f1_score: 0.8930 - val_loss: 0.6481 - val_accuracy: 0.8496 - val_top_k_accuracy: 0.9322 - val_f1_score: 0.7818 - lr: 1.0000e-03\n",
            "Epoch 23/30\n",
            "51/51 [==============================] - 17s 322ms/step - loss: 0.0011 - accuracy: 0.9180 - top_k_accuracy: 0.9801 - f1_score: 0.9116 - val_loss: 0.6520 - val_accuracy: 0.8525 - val_top_k_accuracy: 0.9292 - val_f1_score: 0.7787 - lr: 1.0000e-04\n",
            "Epoch 24/30\n",
            "51/51 [==============================] - 16s 313ms/step - loss: 0.0011 - accuracy: 0.9099 - top_k_accuracy: 0.9826 - f1_score: 0.8950 - val_loss: 0.6554 - val_accuracy: 0.8496 - val_top_k_accuracy: 0.9322 - val_f1_score: 0.7749 - lr: 1.0000e-04\n",
            "Epoch 25/30\n",
            "51/51 [==============================] - 18s 359ms/step - loss: 0.0011 - accuracy: 0.9168 - top_k_accuracy: 0.9814 - f1_score: 0.9029 - val_loss: 0.6638 - val_accuracy: 0.8496 - val_top_k_accuracy: 0.9322 - val_f1_score: 0.7766 - lr: 1.0000e-04\n",
            "Epoch 26/30\n",
            "51/51 [==============================] - 17s 322ms/step - loss: 0.0011 - accuracy: 0.9236 - top_k_accuracy: 0.9807 - f1_score: 0.9162 - val_loss: 0.6642 - val_accuracy: 0.8496 - val_top_k_accuracy: 0.9322 - val_f1_score: 0.7766 - lr: 1.0000e-04\n",
            "Epoch 27/30\n",
            "51/51 [==============================] - ETA: 0s - loss: 0.0010 - accuracy: 0.9124 - top_k_accuracy: 0.9839 - f1_score: 0.9084\n",
            "Epoch 27: ReduceLROnPlateau reducing learning rate to 9.999999019782991e-06.\n",
            "51/51 [==============================] - 17s 320ms/step - loss: 0.0010 - accuracy: 0.9124 - top_k_accuracy: 0.9839 - f1_score: 0.9084 - val_loss: 0.6645 - val_accuracy: 0.8496 - val_top_k_accuracy: 0.9351 - val_f1_score: 0.7766 - lr: 1.0000e-04\n",
            "Epoch 28/30\n",
            "51/51 [==============================] - 16s 320ms/step - loss: 0.0011 - accuracy: 0.9143 - top_k_accuracy: 0.9783 - f1_score: 0.9030 - val_loss: 0.6683 - val_accuracy: 0.8496 - val_top_k_accuracy: 0.9322 - val_f1_score: 0.7766 - lr: 1.0000e-05\n",
            "Epoch 29/30\n",
            "51/51 [==============================] - 19s 372ms/step - loss: 0.0011 - accuracy: 0.9155 - top_k_accuracy: 0.9789 - f1_score: 0.8984 - val_loss: 0.6713 - val_accuracy: 0.8496 - val_top_k_accuracy: 0.9322 - val_f1_score: 0.7766 - lr: 1.0000e-05\n",
            "Epoch 30/30\n",
            "51/51 [==============================] - 16s 315ms/step - loss: 0.0011 - accuracy: 0.9161 - top_k_accuracy: 0.9826 - f1_score: 0.9016 - val_loss: 0.6678 - val_accuracy: 0.8496 - val_top_k_accuracy: 0.9292 - val_f1_score: 0.7766 - lr: 1.0000e-05\n"
          ]
        }
      ],
      "source": [
        "history_enB5 = efficient_netB5_model.fit(train_dataset,\n",
        "                                    validation_data=validation_dataset,\n",
        "                                    epochs=NUM_EPOCHS,\n",
        "                                    class_weight=class_weights,\n",
        "                                    callbacks=[plateau_callback],\n",
        "                                    verbose=1)"
      ]
    },
    {
      "cell_type": "code",
      "execution_count": null,
      "metadata": {
        "id": "kbiWbhdEBFo3"
      },
      "outputs": [],
      "source": [
        "efficient_netB5_model.save_weights('weights_ENB5.h5')"
      ]
    },
    {
      "cell_type": "markdown",
      "metadata": {
        "id": "fq2ZxIVEBT7o"
      },
      "source": [
        "##### Finetune"
      ]
    },
    {
      "cell_type": "code",
      "execution_count": null,
      "metadata": {
        "id": "6iy6S7JdDgvX"
      },
      "outputs": [],
      "source": [
        "# Load the weights saved after the initial transfer learning phase\n",
        "efficient_netB5_model.load_weights('weights_ENB5.h5')\n",
        "\n",
        "# Unfreeze the layers for fine-tuning\n",
        "efficient_netB5.trainable = True\n",
        "\n",
        "fine_tune_at = int(len(efficient_netB5.layers) * 0.8)  # Unfreeze top 20% of layers\n",
        "\n",
        "for layer in efficient_netB5.layers[:fine_tune_at]:\n",
        "    layer.trainable = False"
      ]
    },
    {
      "cell_type": "code",
      "execution_count": null,
      "metadata": {
        "colab": {
          "base_uri": "https://localhost:8080/"
        },
        "id": "5id8HOz4Dv35",
        "outputId": "72574b6a-b849-463b-b973-a6f7405b6d58"
      },
      "outputs": [
        {
          "output_type": "stream",
          "name": "stdout",
          "text": [
            "Epoch 1/30\n",
            "51/51 [==============================] - 65s 561ms/step - loss: 0.0012 - accuracy: 0.9025 - top_k_accuracy: 0.9713 - f1_score: 0.8814 - val_loss: 0.6849 - val_accuracy: 0.8466 - val_top_k_accuracy: 0.9322 - val_f1_score: 0.7720\n",
            "Epoch 2/30\n",
            "51/51 [==============================] - 21s 407ms/step - loss: 0.0010 - accuracy: 0.9211 - top_k_accuracy: 0.9876 - f1_score: 0.9131 - val_loss: 0.6989 - val_accuracy: 0.8407 - val_top_k_accuracy: 0.9351 - val_f1_score: 0.7664\n",
            "Epoch 3/30\n",
            "51/51 [==============================] - 21s 406ms/step - loss: 9.9366e-04 - accuracy: 0.9211 - top_k_accuracy: 0.9839 - f1_score: 0.9089 - val_loss: 0.6237 - val_accuracy: 0.8525 - val_top_k_accuracy: 0.9410 - val_f1_score: 0.7909\n",
            "Epoch 4/30\n",
            "51/51 [==============================] - 22s 407ms/step - loss: 8.7543e-04 - accuracy: 0.9335 - top_k_accuracy: 0.9851 - f1_score: 0.9269 - val_loss: 0.6423 - val_accuracy: 0.8525 - val_top_k_accuracy: 0.9351 - val_f1_score: 0.7925\n",
            "Epoch 5/30\n",
            "51/51 [==============================] - 21s 410ms/step - loss: 9.0874e-04 - accuracy: 0.9311 - top_k_accuracy: 0.9863 - f1_score: 0.9186 - val_loss: 0.6729 - val_accuracy: 0.8407 - val_top_k_accuracy: 0.9410 - val_f1_score: 0.7727\n",
            "Epoch 6/30\n",
            "51/51 [==============================] - 21s 410ms/step - loss: 8.0698e-04 - accuracy: 0.9366 - top_k_accuracy: 0.9863 - f1_score: 0.9291 - val_loss: 0.6598 - val_accuracy: 0.8466 - val_top_k_accuracy: 0.9410 - val_f1_score: 0.7754\n",
            "Epoch 7/30\n",
            "51/51 [==============================] - 23s 449ms/step - loss: 8.1861e-04 - accuracy: 0.9317 - top_k_accuracy: 0.9876 - f1_score: 0.9212 - val_loss: 0.6842 - val_accuracy: 0.8466 - val_top_k_accuracy: 0.9410 - val_f1_score: 0.7784\n",
            "Epoch 8/30\n",
            "51/51 [==============================] - 21s 411ms/step - loss: 7.9667e-04 - accuracy: 0.9366 - top_k_accuracy: 0.9857 - f1_score: 0.9284 - val_loss: 0.6649 - val_accuracy: 0.8496 - val_top_k_accuracy: 0.9410 - val_f1_score: 0.7773\n",
            "Epoch 9/30\n",
            "51/51 [==============================] - 24s 466ms/step - loss: 7.0623e-04 - accuracy: 0.9435 - top_k_accuracy: 0.9925 - f1_score: 0.9261 - val_loss: 0.6793 - val_accuracy: 0.8437 - val_top_k_accuracy: 0.9410 - val_f1_score: 0.7724\n",
            "Epoch 10/30\n",
            "51/51 [==============================] - 21s 404ms/step - loss: 6.9482e-04 - accuracy: 0.9466 - top_k_accuracy: 0.9894 - f1_score: 0.9441 - val_loss: 0.6982 - val_accuracy: 0.8378 - val_top_k_accuracy: 0.9381 - val_f1_score: 0.7700\n",
            "Epoch 11/30\n",
            "51/51 [==============================] - 21s 406ms/step - loss: 7.1014e-04 - accuracy: 0.9447 - top_k_accuracy: 0.9913 - f1_score: 0.9435 - val_loss: 0.6777 - val_accuracy: 0.8378 - val_top_k_accuracy: 0.9351 - val_f1_score: 0.7790\n",
            "Epoch 12/30\n",
            "51/51 [==============================] - 23s 451ms/step - loss: 6.5721e-04 - accuracy: 0.9503 - top_k_accuracy: 0.9913 - f1_score: 0.9500 - val_loss: 0.6817 - val_accuracy: 0.8466 - val_top_k_accuracy: 0.9351 - val_f1_score: 0.7857\n",
            "Epoch 13/30\n",
            "51/51 [==============================] - 21s 411ms/step - loss: 7.1748e-04 - accuracy: 0.9491 - top_k_accuracy: 0.9882 - f1_score: 0.9440 - val_loss: 0.7080 - val_accuracy: 0.8437 - val_top_k_accuracy: 0.9351 - val_f1_score: 0.7859\n",
            "Epoch 14/30\n",
            "51/51 [==============================] - 23s 456ms/step - loss: 6.2440e-04 - accuracy: 0.9503 - top_k_accuracy: 0.9888 - f1_score: 0.9398 - val_loss: 0.6767 - val_accuracy: 0.8437 - val_top_k_accuracy: 0.9410 - val_f1_score: 0.7781\n",
            "Epoch 15/30\n",
            "51/51 [==============================] - 21s 403ms/step - loss: 5.5833e-04 - accuracy: 0.9596 - top_k_accuracy: 0.9913 - f1_score: 0.9602 - val_loss: 0.7021 - val_accuracy: 0.8525 - val_top_k_accuracy: 0.9410 - val_f1_score: 0.7923\n",
            "Epoch 16/30\n",
            "51/51 [==============================] - 24s 458ms/step - loss: 6.1851e-04 - accuracy: 0.9528 - top_k_accuracy: 0.9913 - f1_score: 0.9488 - val_loss: 0.7441 - val_accuracy: 0.8348 - val_top_k_accuracy: 0.9322 - val_f1_score: 0.7682\n",
            "Epoch 17/30\n",
            "51/51 [==============================] - 21s 402ms/step - loss: 5.6450e-04 - accuracy: 0.9627 - top_k_accuracy: 0.9938 - f1_score: 0.9620 - val_loss: 0.6981 - val_accuracy: 0.8378 - val_top_k_accuracy: 0.9351 - val_f1_score: 0.7704\n",
            "Epoch 18/30\n",
            "51/51 [==============================] - 21s 405ms/step - loss: 5.0557e-04 - accuracy: 0.9627 - top_k_accuracy: 0.9932 - f1_score: 0.9559 - val_loss: 0.7080 - val_accuracy: 0.8466 - val_top_k_accuracy: 0.9381 - val_f1_score: 0.7679\n",
            "Epoch 19/30\n",
            "51/51 [==============================] - 21s 402ms/step - loss: 5.1251e-04 - accuracy: 0.9615 - top_k_accuracy: 0.9925 - f1_score: 0.9588 - val_loss: 0.7376 - val_accuracy: 0.8407 - val_top_k_accuracy: 0.9381 - val_f1_score: 0.7715\n",
            "Epoch 20/30\n",
            "51/51 [==============================] - 21s 411ms/step - loss: 4.9563e-04 - accuracy: 0.9615 - top_k_accuracy: 0.9907 - f1_score: 0.9583 - val_loss: 0.7183 - val_accuracy: 0.8319 - val_top_k_accuracy: 0.9410 - val_f1_score: 0.7654\n",
            "Epoch 21/30\n",
            "51/51 [==============================] - 23s 455ms/step - loss: 4.6604e-04 - accuracy: 0.9665 - top_k_accuracy: 0.9938 - f1_score: 0.9571 - val_loss: 0.7192 - val_accuracy: 0.8466 - val_top_k_accuracy: 0.9410 - val_f1_score: 0.7812\n",
            "Epoch 22/30\n",
            "51/51 [==============================] - 21s 409ms/step - loss: 4.4015e-04 - accuracy: 0.9714 - top_k_accuracy: 0.9938 - f1_score: 0.9673 - val_loss: 0.7151 - val_accuracy: 0.8496 - val_top_k_accuracy: 0.9410 - val_f1_score: 0.7832\n",
            "Epoch 23/30\n",
            "51/51 [==============================] - 21s 407ms/step - loss: 3.9902e-04 - accuracy: 0.9671 - top_k_accuracy: 0.9944 - f1_score: 0.9605 - val_loss: 0.7236 - val_accuracy: 0.8407 - val_top_k_accuracy: 0.9410 - val_f1_score: 0.7735\n",
            "Epoch 24/30\n",
            "51/51 [==============================] - 23s 449ms/step - loss: 4.1065e-04 - accuracy: 0.9696 - top_k_accuracy: 0.9957 - f1_score: 0.9708 - val_loss: 0.7522 - val_accuracy: 0.8407 - val_top_k_accuracy: 0.9410 - val_f1_score: 0.7755\n",
            "Epoch 25/30\n",
            "51/51 [==============================] - 21s 409ms/step - loss: 4.1998e-04 - accuracy: 0.9739 - top_k_accuracy: 0.9981 - f1_score: 0.9685 - val_loss: 0.7163 - val_accuracy: 0.8378 - val_top_k_accuracy: 0.9440 - val_f1_score: 0.7592\n",
            "Epoch 26/30\n",
            "51/51 [==============================] - 21s 405ms/step - loss: 3.6376e-04 - accuracy: 0.9764 - top_k_accuracy: 0.9963 - f1_score: 0.9749 - val_loss: 0.7159 - val_accuracy: 0.8378 - val_top_k_accuracy: 0.9469 - val_f1_score: 0.7604\n",
            "Epoch 27/30\n",
            "51/51 [==============================] - 21s 410ms/step - loss: 3.3930e-04 - accuracy: 0.9776 - top_k_accuracy: 0.9957 - f1_score: 0.9741 - val_loss: 0.7178 - val_accuracy: 0.8407 - val_top_k_accuracy: 0.9469 - val_f1_score: 0.7667\n",
            "Epoch 28/30\n",
            "51/51 [==============================] - 21s 403ms/step - loss: 3.3670e-04 - accuracy: 0.9752 - top_k_accuracy: 0.9963 - f1_score: 0.9753 - val_loss: 0.7255 - val_accuracy: 0.8348 - val_top_k_accuracy: 0.9410 - val_f1_score: 0.7680\n",
            "Epoch 29/30\n",
            "51/51 [==============================] - 23s 455ms/step - loss: 3.4422e-04 - accuracy: 0.9752 - top_k_accuracy: 0.9969 - f1_score: 0.9674 - val_loss: 0.7496 - val_accuracy: 0.8437 - val_top_k_accuracy: 0.9410 - val_f1_score: 0.7762\n",
            "Epoch 30/30\n",
            "51/51 [==============================] - 21s 406ms/step - loss: 3.1286e-04 - accuracy: 0.9795 - top_k_accuracy: 0.9957 - f1_score: 0.9772 - val_loss: 0.7775 - val_accuracy: 0.8201 - val_top_k_accuracy: 0.9410 - val_f1_score: 0.7551\n"
          ]
        }
      ],
      "source": [
        "efficient_netB5_model.compile(\n",
        "    optimizer=Adam(learning_rate=1e-5),\n",
        "    loss=loss_function,\n",
        "    metrics=metrics\n",
        ")\n",
        "\n",
        "# Fine-tune the model\n",
        "history_fine_tune = efficient_netB5_model.fit(\n",
        "    train_dataset,\n",
        "    validation_data=validation_dataset,\n",
        "    epochs=NUM_EPOCHS,\n",
        "    class_weight=class_weights,\n",
        "    verbose=1\n",
        ")"
      ]
    },
    {
      "cell_type": "code",
      "execution_count": null,
      "metadata": {
        "id": "ejn58m8LUteF"
      },
      "outputs": [],
      "source": [
        "efficient_netB5_model.save_weights('fine_tuned_weights_ENB5.h5')"
      ]
    },
    {
      "cell_type": "markdown",
      "metadata": {
        "id": "GvpugwHXUezL"
      },
      "source": [
        "#### ResnNet50V2"
      ]
    },
    {
      "cell_type": "code",
      "execution_count": null,
      "metadata": {
        "colab": {
          "base_uri": "https://localhost:8080/"
        },
        "id": "lxn7tRDoLwsN",
        "outputId": "4f5a71a0-6af6-48dc-fa1a-e564c8540e3a"
      },
      "outputs": [
        {
          "output_type": "stream",
          "name": "stdout",
          "text": [
            "Downloading data from https://storage.googleapis.com/tensorflow/keras-applications/resnet/resnet50v2_weights_tf_dim_ordering_tf_kernels_notop.h5\n",
            "94668760/94668760 [==============================] - 0s 0us/step\n"
          ]
        }
      ],
      "source": [
        "resnet_50v2 = tf.keras.applications.ResNet50V2(\n",
        "    include_top=False,\n",
        "    weights='imagenet',\n",
        "    input_shape=(IMAGE_SIZE, IMAGE_SIZE, 3),\n",
        ")\n",
        "\n",
        "resnet_50v2.trainable = False"
      ]
    },
    {
      "cell_type": "code",
      "execution_count": null,
      "metadata": {
        "colab": {
          "base_uri": "https://localhost:8080/"
        },
        "id": "DpWTD-gYU7vc",
        "outputId": "897fc21e-def1-4f7d-9917-e70c6503d26e"
      },
      "outputs": [
        {
          "output_type": "stream",
          "name": "stdout",
          "text": [
            "Model: \"model_1\"\n",
            "_________________________________________________________________\n",
            " Layer (type)                Output Shape              Param #   \n",
            "=================================================================\n",
            " input_4 (InputLayer)        [(None, 256, 256, 3)]     0         \n",
            "                                                                 \n",
            " resnet50v2 (Functional)     (None, 8, 8, 2048)        23564800  \n",
            "                                                                 \n",
            " global_average_pooling2d_1  (None, 2048)              0         \n",
            "  (GlobalAveragePooling2D)                                       \n",
            "                                                                 \n",
            " dense_3 (Dense)             (None, 1024)              2098176   \n",
            "                                                                 \n",
            " batch_normalization_1 (Bat  (None, 1024)              4096      \n",
            " chNormalization)                                                \n",
            "                                                                 \n",
            " dense_4 (Dense)             (None, 128)               131200    \n",
            "                                                                 \n",
            " dense_5 (Dense)             (None, 10)                1290      \n",
            "                                                                 \n",
            "=================================================================\n",
            "Total params: 25799562 (98.42 MB)\n",
            "Trainable params: 2232714 (8.52 MB)\n",
            "Non-trainable params: 23566848 (89.90 MB)\n",
            "_________________________________________________________________\n"
          ]
        }
      ],
      "source": [
        "input = Input(shape=(IMAGE_SIZE, IMAGE_SIZE, 3))\n",
        "\n",
        "x = resnet_50v2(input, training=False)\n",
        "\n",
        "x = GlobalAveragePooling2D()(x)\n",
        "x = Dense(DENSE_UNITS_1, activation='relu')(x)\n",
        "x = BatchNormalization()(x)\n",
        "x = Dense(DENSE_UNITS_2, activation='relu')(x)\n",
        "output = Dense(NUM_CLASSES, activation='softmax')(x)\n",
        "\n",
        "resnet_50v2_model = Model(input, output)\n",
        "\n",
        "resnet_50v2_model.summary()"
      ]
    },
    {
      "cell_type": "code",
      "execution_count": null,
      "metadata": {
        "id": "gbdTFu_YVO5w"
      },
      "outputs": [],
      "source": [
        "resnet_50v2_model.compile(\n",
        "    optimizer=Adam(learning_rate=LEARNING_RATE),\n",
        "    loss = loss_function,\n",
        "    metrics = metrics\n",
        ")"
      ]
    },
    {
      "cell_type": "code",
      "execution_count": null,
      "metadata": {
        "id": "qolgkE2fCzzX"
      },
      "outputs": [],
      "source": [
        "# Define the preprocessing function for resnets\n",
        "def preprocess_resnet(image, label):\n",
        "    image = tf.keras.applications.resnet_v2.preprocess_input(image)\n",
        "    return image, label"
      ]
    },
    {
      "cell_type": "code",
      "execution_count": null,
      "metadata": {
        "colab": {
          "base_uri": "https://localhost:8080/"
        },
        "id": "lJbGRfmx4Maw",
        "outputId": "4d72552c-1628-4397-9e08-68c5bbcd15c7"
      },
      "outputs": [
        {
          "output_type": "stream",
          "name": "stdout",
          "text": [
            "Epoch 1/30\n",
            "51/51 [==============================] - 20s 240ms/step - loss: 0.0167 - accuracy: 0.6049 - top_k_accuracy: 0.7717 - f1_score: 0.4853 - val_loss: 9.1843 - val_accuracy: 0.5192 - val_top_k_accuracy: 0.6962 - val_f1_score: 0.3125 - lr: 0.0100\n",
            "Epoch 2/30\n",
            "51/51 [==============================] - 8s 153ms/step - loss: 0.0063 - accuracy: 0.6677 - top_k_accuracy: 0.8571 - f1_score: 0.5473 - val_loss: 2.3655 - val_accuracy: 0.6490 - val_top_k_accuracy: 0.8230 - val_f1_score: 0.5382 - lr: 0.0100\n",
            "Epoch 3/30\n",
            "51/51 [==============================] - 8s 161ms/step - loss: 0.0047 - accuracy: 0.7093 - top_k_accuracy: 0.8807 - f1_score: 0.6253 - val_loss: 1.0055 - val_accuracy: 0.6962 - val_top_k_accuracy: 0.8761 - val_f1_score: 0.5861 - lr: 0.0100\n",
            "Epoch 4/30\n",
            "51/51 [==============================] - 8s 149ms/step - loss: 0.0039 - accuracy: 0.7534 - top_k_accuracy: 0.9186 - f1_score: 0.6641 - val_loss: 0.7846 - val_accuracy: 0.7906 - val_top_k_accuracy: 0.9145 - val_f1_score: 0.6937 - lr: 0.0100\n",
            "Epoch 5/30\n",
            "51/51 [==============================] - 8s 156ms/step - loss: 0.0035 - accuracy: 0.7814 - top_k_accuracy: 0.9236 - f1_score: 0.7044 - val_loss: 0.8454 - val_accuracy: 0.7729 - val_top_k_accuracy: 0.8938 - val_f1_score: 0.6468 - lr: 0.0100\n",
            "Epoch 6/30\n",
            "51/51 [==============================] - 8s 152ms/step - loss: 0.0037 - accuracy: 0.7745 - top_k_accuracy: 0.9168 - f1_score: 0.7158 - val_loss: 0.9787 - val_accuracy: 0.7227 - val_top_k_accuracy: 0.8879 - val_f1_score: 0.6270 - lr: 0.0100\n",
            "Epoch 7/30\n",
            "51/51 [==============================] - 8s 148ms/step - loss: 0.0032 - accuracy: 0.8031 - top_k_accuracy: 0.9292 - f1_score: 0.7547 - val_loss: 0.9678 - val_accuracy: 0.7493 - val_top_k_accuracy: 0.8850 - val_f1_score: 0.6433 - lr: 0.0100\n",
            "Epoch 8/30\n",
            "51/51 [==============================] - 8s 146ms/step - loss: 0.0030 - accuracy: 0.8043 - top_k_accuracy: 0.9242 - f1_score: 0.7496 - val_loss: 1.1180 - val_accuracy: 0.7109 - val_top_k_accuracy: 0.8673 - val_f1_score: 0.6191 - lr: 0.0100\n",
            "Epoch 9/30\n",
            "50/51 [============================>.] - ETA: 0s - loss: 0.0036 - accuracy: 0.7769 - top_k_accuracy: 0.9106 - f1_score: 0.7189\n",
            "Epoch 9: ReduceLROnPlateau reducing learning rate to 0.0009999999776482583.\n",
            "51/51 [==============================] - 8s 154ms/step - loss: 0.0036 - accuracy: 0.7764 - top_k_accuracy: 0.9106 - f1_score: 0.7218 - val_loss: 1.0330 - val_accuracy: 0.7168 - val_top_k_accuracy: 0.8761 - val_f1_score: 0.6439 - lr: 0.0100\n",
            "Epoch 10/30\n",
            "51/51 [==============================] - 8s 149ms/step - loss: 0.0026 - accuracy: 0.8037 - top_k_accuracy: 0.9429 - f1_score: 0.7793 - val_loss: 0.6909 - val_accuracy: 0.7965 - val_top_k_accuracy: 0.9204 - val_f1_score: 0.6966 - lr: 1.0000e-03\n",
            "Epoch 11/30\n",
            "51/51 [==============================] - 9s 178ms/step - loss: 0.0020 - accuracy: 0.8497 - top_k_accuracy: 0.9658 - f1_score: 0.8243 - val_loss: 0.6505 - val_accuracy: 0.8083 - val_top_k_accuracy: 0.9263 - val_f1_score: 0.7052 - lr: 1.0000e-03\n",
            "Epoch 12/30\n",
            "51/51 [==============================] - 8s 163ms/step - loss: 0.0019 - accuracy: 0.8627 - top_k_accuracy: 0.9646 - f1_score: 0.8299 - val_loss: 0.6303 - val_accuracy: 0.8053 - val_top_k_accuracy: 0.9263 - val_f1_score: 0.7238 - lr: 1.0000e-03\n",
            "Epoch 13/30\n",
            "51/51 [==============================] - 8s 154ms/step - loss: 0.0016 - accuracy: 0.8776 - top_k_accuracy: 0.9801 - f1_score: 0.8502 - val_loss: 0.6402 - val_accuracy: 0.8171 - val_top_k_accuracy: 0.9292 - val_f1_score: 0.7457 - lr: 1.0000e-03\n",
            "Epoch 14/30\n",
            "51/51 [==============================] - 8s 146ms/step - loss: 0.0016 - accuracy: 0.8689 - top_k_accuracy: 0.9733 - f1_score: 0.8410 - val_loss: 0.6255 - val_accuracy: 0.8083 - val_top_k_accuracy: 0.9292 - val_f1_score: 0.7352 - lr: 1.0000e-03\n",
            "Epoch 15/30\n",
            "51/51 [==============================] - 9s 160ms/step - loss: 0.0015 - accuracy: 0.8857 - top_k_accuracy: 0.9739 - f1_score: 0.8679 - val_loss: 0.6251 - val_accuracy: 0.8201 - val_top_k_accuracy: 0.9410 - val_f1_score: 0.7481 - lr: 1.0000e-03\n",
            "Epoch 16/30\n",
            "51/51 [==============================] - 8s 157ms/step - loss: 0.0016 - accuracy: 0.8820 - top_k_accuracy: 0.9739 - f1_score: 0.8690 - val_loss: 0.6678 - val_accuracy: 0.8171 - val_top_k_accuracy: 0.9440 - val_f1_score: 0.7408 - lr: 1.0000e-03\n",
            "Epoch 17/30\n",
            "51/51 [==============================] - 9s 171ms/step - loss: 0.0015 - accuracy: 0.8957 - top_k_accuracy: 0.9745 - f1_score: 0.8821 - val_loss: 0.6415 - val_accuracy: 0.8171 - val_top_k_accuracy: 0.9410 - val_f1_score: 0.7473 - lr: 1.0000e-03\n",
            "Epoch 18/30\n",
            "51/51 [==============================] - 8s 146ms/step - loss: 0.0013 - accuracy: 0.8975 - top_k_accuracy: 0.9758 - f1_score: 0.8835 - val_loss: 0.6481 - val_accuracy: 0.8260 - val_top_k_accuracy: 0.9381 - val_f1_score: 0.7518 - lr: 1.0000e-03\n",
            "Epoch 19/30\n",
            "51/51 [==============================] - 8s 151ms/step - loss: 0.0013 - accuracy: 0.9043 - top_k_accuracy: 0.9820 - f1_score: 0.8962 - val_loss: 0.6502 - val_accuracy: 0.8289 - val_top_k_accuracy: 0.9440 - val_f1_score: 0.7557 - lr: 1.0000e-03\n",
            "Epoch 20/30\n",
            "51/51 [==============================] - 8s 160ms/step - loss: 0.0012 - accuracy: 0.9087 - top_k_accuracy: 0.9845 - f1_score: 0.9002 - val_loss: 0.6406 - val_accuracy: 0.8171 - val_top_k_accuracy: 0.9440 - val_f1_score: 0.7383 - lr: 1.0000e-03\n",
            "Epoch 21/30\n",
            "51/51 [==============================] - 9s 173ms/step - loss: 0.0013 - accuracy: 0.9124 - top_k_accuracy: 0.9845 - f1_score: 0.9017 - val_loss: 0.6694 - val_accuracy: 0.8142 - val_top_k_accuracy: 0.9381 - val_f1_score: 0.7352 - lr: 1.0000e-03\n",
            "Epoch 22/30\n",
            "51/51 [==============================] - 9s 170ms/step - loss: 9.7696e-04 - accuracy: 0.9224 - top_k_accuracy: 0.9876 - f1_score: 0.9182 - val_loss: 0.6494 - val_accuracy: 0.8319 - val_top_k_accuracy: 0.9381 - val_f1_score: 0.7567 - lr: 1.0000e-03\n",
            "Epoch 23/30\n",
            "51/51 [==============================] - 8s 148ms/step - loss: 0.0011 - accuracy: 0.9217 - top_k_accuracy: 0.9857 - f1_score: 0.9111 - val_loss: 0.6613 - val_accuracy: 0.8319 - val_top_k_accuracy: 0.9351 - val_f1_score: 0.7595 - lr: 1.0000e-03\n",
            "Epoch 24/30\n",
            "51/51 [==============================] - 9s 176ms/step - loss: 9.7416e-04 - accuracy: 0.9242 - top_k_accuracy: 0.9882 - f1_score: 0.9171 - val_loss: 0.6868 - val_accuracy: 0.8230 - val_top_k_accuracy: 0.9469 - val_f1_score: 0.7520 - lr: 1.0000e-03\n",
            "Epoch 25/30\n",
            "51/51 [==============================] - 8s 154ms/step - loss: 9.4973e-04 - accuracy: 0.9280 - top_k_accuracy: 0.9901 - f1_score: 0.9192 - val_loss: 0.6548 - val_accuracy: 0.8289 - val_top_k_accuracy: 0.9469 - val_f1_score: 0.7544 - lr: 1.0000e-03\n",
            "Epoch 26/30\n",
            "51/51 [==============================] - 8s 148ms/step - loss: 9.4199e-04 - accuracy: 0.9286 - top_k_accuracy: 0.9876 - f1_score: 0.9267 - val_loss: 0.6754 - val_accuracy: 0.8171 - val_top_k_accuracy: 0.9440 - val_f1_score: 0.7387 - lr: 1.0000e-03\n",
            "Epoch 27/30\n",
            "50/51 [============================>.] - ETA: 0s - loss: 9.6458e-04 - accuracy: 0.9300 - top_k_accuracy: 0.9881 - f1_score: 0.9292\n",
            "Epoch 27: ReduceLROnPlateau reducing learning rate to 9.999999310821295e-05.\n",
            "51/51 [==============================] - 8s 159ms/step - loss: 9.5978e-04 - accuracy: 0.9304 - top_k_accuracy: 0.9882 - f1_score: 0.9301 - val_loss: 0.6782 - val_accuracy: 0.8289 - val_top_k_accuracy: 0.9469 - val_f1_score: 0.7522 - lr: 1.0000e-03\n",
            "Epoch 28/30\n",
            "51/51 [==============================] - 9s 174ms/step - loss: 8.6947e-04 - accuracy: 0.9335 - top_k_accuracy: 0.9901 - f1_score: 0.9306 - val_loss: 0.6802 - val_accuracy: 0.8260 - val_top_k_accuracy: 0.9469 - val_f1_score: 0.7488 - lr: 1.0000e-04\n",
            "Epoch 29/30\n",
            "51/51 [==============================] - 8s 146ms/step - loss: 8.0962e-04 - accuracy: 0.9453 - top_k_accuracy: 0.9944 - f1_score: 0.9370 - val_loss: 0.6775 - val_accuracy: 0.8289 - val_top_k_accuracy: 0.9440 - val_f1_score: 0.7516 - lr: 1.0000e-04\n",
            "Epoch 30/30\n",
            "51/51 [==============================] - 8s 158ms/step - loss: 8.4422e-04 - accuracy: 0.9441 - top_k_accuracy: 0.9907 - f1_score: 0.9366 - val_loss: 0.6792 - val_accuracy: 0.8260 - val_top_k_accuracy: 0.9440 - val_f1_score: 0.7482 - lr: 1.0000e-04\n"
          ]
        }
      ],
      "source": [
        "history_rn50 = resnet_50v2_model.fit(train_dataset.map(preprocess_resnet, num_parallel_calls=AUTOTUNE),\n",
        "                                    validation_data=validation_dataset.map(preprocess_resnet, num_parallel_calls=AUTOTUNE),\n",
        "                                    epochs=NUM_EPOCHS,\n",
        "                                    callbacks=[plateau_callback],\n",
        "                                    class_weight=class_weights,\n",
        "                                    verbose=1)"
      ]
    },
    {
      "cell_type": "code",
      "execution_count": null,
      "metadata": {
        "id": "7kXJXv934S1S"
      },
      "outputs": [],
      "source": [
        "resnet_50v2_model.save_weights('weights_RN50.h5')"
      ]
    },
    {
      "cell_type": "markdown",
      "metadata": {
        "id": "2DhXFANQ4aRV"
      },
      "source": [
        "##### Finetunning"
      ]
    },
    {
      "cell_type": "code",
      "execution_count": null,
      "metadata": {
        "id": "e7azjDT04by0"
      },
      "outputs": [],
      "source": [
        "# Load the weights saved after the initial transfer learning phase\n",
        "resnet_50v2_model.load_weights('weights_RN50.h5')\n",
        "\n",
        "# Unfreeze the layers for fine-tuning\n",
        "resnet_50v2.trainable = True\n",
        "\n",
        "fine_tune_at = int(len(resnet_50v2.layers) * 0.8)  # Unfreeze top 20% of layers\n",
        "\n",
        "for layer in resnet_50v2.layers[:fine_tune_at]:\n",
        "    layer.trainable = False"
      ]
    },
    {
      "cell_type": "code",
      "execution_count": null,
      "metadata": {
        "colab": {
          "base_uri": "https://localhost:8080/"
        },
        "id": "SRIoPSF44y33",
        "outputId": "8431f585-0bdb-42b8-a342-b1b65c248c6f"
      },
      "outputs": [
        {
          "output_type": "stream",
          "name": "stdout",
          "text": [
            "Epoch 1/30\n",
            "51/51 [==============================] - 24s 244ms/step - loss: 8.2646e-04 - accuracy: 0.9215 - top_k_accuracy: 0.9831 - f1_score: 0.9066 - val_loss: 0.7222 - val_accuracy: 0.8053 - val_top_k_accuracy: 0.9410 - val_f1_score: 0.7284\n",
            "Epoch 2/30\n",
            "51/51 [==============================] - 11s 216ms/step - loss: 8.0373e-04 - accuracy: 0.9391 - top_k_accuracy: 0.9907 - f1_score: 0.9355 - val_loss: 0.7801 - val_accuracy: 0.8260 - val_top_k_accuracy: 0.9410 - val_f1_score: 0.7558\n",
            "Epoch 3/30\n",
            "51/51 [==============================] - 10s 191ms/step - loss: 7.5856e-04 - accuracy: 0.9497 - top_k_accuracy: 0.9925 - f1_score: 0.9445 - val_loss: 0.8351 - val_accuracy: 0.8230 - val_top_k_accuracy: 0.9292 - val_f1_score: 0.7338\n",
            "Epoch 4/30\n",
            "51/51 [==============================] - 10s 190ms/step - loss: 7.2878e-04 - accuracy: 0.9516 - top_k_accuracy: 0.9925 - f1_score: 0.9412 - val_loss: 0.8235 - val_accuracy: 0.8112 - val_top_k_accuracy: 0.9440 - val_f1_score: 0.7331\n",
            "Epoch 5/30\n",
            "51/51 [==============================] - 11s 211ms/step - loss: 6.6509e-04 - accuracy: 0.9553 - top_k_accuracy: 0.9944 - f1_score: 0.9468 - val_loss: 0.7671 - val_accuracy: 0.8348 - val_top_k_accuracy: 0.9558 - val_f1_score: 0.7553\n",
            "Epoch 6/30\n",
            "51/51 [==============================] - 10s 185ms/step - loss: 5.4908e-04 - accuracy: 0.9609 - top_k_accuracy: 0.9969 - f1_score: 0.9607 - val_loss: 0.6744 - val_accuracy: 0.8289 - val_top_k_accuracy: 0.9469 - val_f1_score: 0.7428\n",
            "Epoch 7/30\n",
            "51/51 [==============================] - 10s 188ms/step - loss: 4.8804e-04 - accuracy: 0.9696 - top_k_accuracy: 0.9963 - f1_score: 0.9676 - val_loss: 0.7387 - val_accuracy: 0.8289 - val_top_k_accuracy: 0.9410 - val_f1_score: 0.7480\n",
            "Epoch 8/30\n",
            "51/51 [==============================] - 11s 220ms/step - loss: 4.7709e-04 - accuracy: 0.9727 - top_k_accuracy: 0.9969 - f1_score: 0.9642 - val_loss: 0.6900 - val_accuracy: 0.8289 - val_top_k_accuracy: 0.9499 - val_f1_score: 0.7413\n",
            "Epoch 9/30\n",
            "51/51 [==============================] - 10s 184ms/step - loss: 4.0564e-04 - accuracy: 0.9752 - top_k_accuracy: 0.9969 - f1_score: 0.9652 - val_loss: 0.7092 - val_accuracy: 0.8348 - val_top_k_accuracy: 0.9469 - val_f1_score: 0.7462\n",
            "Epoch 10/30\n",
            "51/51 [==============================] - 10s 185ms/step - loss: 3.4102e-04 - accuracy: 0.9758 - top_k_accuracy: 0.9981 - f1_score: 0.9750 - val_loss: 0.6707 - val_accuracy: 0.8260 - val_top_k_accuracy: 0.9469 - val_f1_score: 0.7551\n",
            "Epoch 11/30\n",
            "51/51 [==============================] - 11s 214ms/step - loss: 3.5494e-04 - accuracy: 0.9764 - top_k_accuracy: 0.9963 - f1_score: 0.9737 - val_loss: 0.7318 - val_accuracy: 0.8260 - val_top_k_accuracy: 0.9469 - val_f1_score: 0.7413\n",
            "Epoch 12/30\n",
            "51/51 [==============================] - 10s 190ms/step - loss: 2.5828e-04 - accuracy: 0.9832 - top_k_accuracy: 0.9981 - f1_score: 0.9785 - val_loss: 0.6898 - val_accuracy: 0.8348 - val_top_k_accuracy: 0.9469 - val_f1_score: 0.7529\n",
            "Epoch 13/30\n",
            "51/51 [==============================] - 10s 192ms/step - loss: 2.6480e-04 - accuracy: 0.9826 - top_k_accuracy: 0.9994 - f1_score: 0.9802 - val_loss: 0.7250 - val_accuracy: 0.8348 - val_top_k_accuracy: 0.9469 - val_f1_score: 0.7538\n",
            "Epoch 14/30\n",
            "51/51 [==============================] - 10s 184ms/step - loss: 2.7867e-04 - accuracy: 0.9789 - top_k_accuracy: 1.0000 - f1_score: 0.9741 - val_loss: 0.6649 - val_accuracy: 0.8437 - val_top_k_accuracy: 0.9528 - val_f1_score: 0.7714\n",
            "Epoch 15/30\n",
            "51/51 [==============================] - 10s 188ms/step - loss: 2.3932e-04 - accuracy: 0.9888 - top_k_accuracy: 1.0000 - f1_score: 0.9882 - val_loss: 0.6765 - val_accuracy: 0.8496 - val_top_k_accuracy: 0.9469 - val_f1_score: 0.7784\n",
            "Epoch 16/30\n",
            "51/51 [==============================] - 11s 213ms/step - loss: 2.4172e-04 - accuracy: 0.9863 - top_k_accuracy: 1.0000 - f1_score: 0.9812 - val_loss: 0.7125 - val_accuracy: 0.8319 - val_top_k_accuracy: 0.9440 - val_f1_score: 0.7574\n",
            "Epoch 17/30\n",
            "51/51 [==============================] - 10s 185ms/step - loss: 2.1451e-04 - accuracy: 0.9882 - top_k_accuracy: 1.0000 - f1_score: 0.9851 - val_loss: 0.6846 - val_accuracy: 0.8407 - val_top_k_accuracy: 0.9499 - val_f1_score: 0.7709\n",
            "Epoch 18/30\n",
            "51/51 [==============================] - 11s 212ms/step - loss: 1.7476e-04 - accuracy: 0.9925 - top_k_accuracy: 0.9981 - f1_score: 0.9898 - val_loss: 0.6990 - val_accuracy: 0.8319 - val_top_k_accuracy: 0.9410 - val_f1_score: 0.7442\n",
            "Epoch 19/30\n",
            "51/51 [==============================] - 10s 184ms/step - loss: 1.6394e-04 - accuracy: 0.9932 - top_k_accuracy: 1.0000 - f1_score: 0.9915 - val_loss: 0.7127 - val_accuracy: 0.8407 - val_top_k_accuracy: 0.9440 - val_f1_score: 0.7522\n",
            "Epoch 20/30\n",
            "51/51 [==============================] - 10s 187ms/step - loss: 2.4792e-04 - accuracy: 0.9851 - top_k_accuracy: 0.9994 - f1_score: 0.9793 - val_loss: 0.6900 - val_accuracy: 0.8319 - val_top_k_accuracy: 0.9410 - val_f1_score: 0.7559\n",
            "Epoch 21/30\n",
            "51/51 [==============================] - 11s 214ms/step - loss: 2.7463e-04 - accuracy: 0.9913 - top_k_accuracy: 0.9994 - f1_score: 0.9889 - val_loss: 0.6956 - val_accuracy: 0.8437 - val_top_k_accuracy: 0.9440 - val_f1_score: 0.7807\n",
            "Epoch 22/30\n",
            "51/51 [==============================] - 10s 191ms/step - loss: 2.0470e-04 - accuracy: 0.9925 - top_k_accuracy: 1.0000 - f1_score: 0.9902 - val_loss: 0.6874 - val_accuracy: 0.8437 - val_top_k_accuracy: 0.9469 - val_f1_score: 0.7723\n",
            "Epoch 23/30\n",
            "51/51 [==============================] - 11s 213ms/step - loss: 4.2465e-04 - accuracy: 0.9770 - top_k_accuracy: 0.9975 - f1_score: 0.9764 - val_loss: 0.8102 - val_accuracy: 0.8407 - val_top_k_accuracy: 0.9440 - val_f1_score: 0.7604\n",
            "Epoch 24/30\n",
            "51/51 [==============================] - 10s 186ms/step - loss: 2.4201e-04 - accuracy: 0.9857 - top_k_accuracy: 0.9994 - f1_score: 0.9828 - val_loss: 0.7398 - val_accuracy: 0.8319 - val_top_k_accuracy: 0.9440 - val_f1_score: 0.7480\n",
            "Epoch 25/30\n",
            "51/51 [==============================] - 10s 185ms/step - loss: 1.5380e-04 - accuracy: 0.9925 - top_k_accuracy: 0.9994 - f1_score: 0.9919 - val_loss: 0.6895 - val_accuracy: 0.8348 - val_top_k_accuracy: 0.9440 - val_f1_score: 0.7624\n",
            "Epoch 26/30\n",
            "51/51 [==============================] - 10s 196ms/step - loss: 1.1891e-04 - accuracy: 0.9944 - top_k_accuracy: 1.0000 - f1_score: 0.9930 - val_loss: 0.7359 - val_accuracy: 0.8378 - val_top_k_accuracy: 0.9469 - val_f1_score: 0.7530\n",
            "Epoch 27/30\n",
            "51/51 [==============================] - 11s 213ms/step - loss: 1.3859e-04 - accuracy: 0.9957 - top_k_accuracy: 0.9994 - f1_score: 0.9952 - val_loss: 0.7153 - val_accuracy: 0.8437 - val_top_k_accuracy: 0.9440 - val_f1_score: 0.7602\n",
            "Epoch 28/30\n",
            "51/51 [==============================] - 10s 188ms/step - loss: 1.0587e-04 - accuracy: 0.9969 - top_k_accuracy: 0.9994 - f1_score: 0.9928 - val_loss: 0.7247 - val_accuracy: 0.8437 - val_top_k_accuracy: 0.9440 - val_f1_score: 0.7591\n",
            "Epoch 29/30\n",
            "51/51 [==============================] - 10s 183ms/step - loss: 1.1434e-04 - accuracy: 0.9957 - top_k_accuracy: 0.9994 - f1_score: 0.9947 - val_loss: 0.7137 - val_accuracy: 0.8437 - val_top_k_accuracy: 0.9440 - val_f1_score: 0.7619\n",
            "Epoch 30/30\n",
            "51/51 [==============================] - 10s 192ms/step - loss: 1.3862e-04 - accuracy: 0.9957 - top_k_accuracy: 1.0000 - f1_score: 0.9940 - val_loss: 0.7369 - val_accuracy: 0.8407 - val_top_k_accuracy: 0.9440 - val_f1_score: 0.7578\n"
          ]
        }
      ],
      "source": [
        "resnet_50v2_model.compile(\n",
        "    optimizer=Adam(learning_rate=1e-5),\n",
        "    loss=loss_function,\n",
        "    metrics=metrics\n",
        ")\n",
        "\n",
        "# Fine-tune the model\n",
        "history_fine_tune = resnet_50v2_model.fit(\n",
        "    train_dataset.map(preprocess_resnet, num_parallel_calls=AUTOTUNE),\n",
        "    validation_data=validation_dataset.map(preprocess_resnet, num_parallel_calls=AUTOTUNE),\n",
        "    epochs=NUM_EPOCHS,\n",
        "    class_weight=class_weights,\n",
        "    verbose=1\n",
        ")"
      ]
    },
    {
      "cell_type": "code",
      "execution_count": null,
      "metadata": {
        "id": "gOelJ1Qs47qK"
      },
      "outputs": [],
      "source": [
        "efficient_netB5_model.save_weights('fine_tuned_weights_RN50.h5')"
      ]
    },
    {
      "cell_type": "markdown",
      "metadata": {
        "id": "Ewh5CI5w5ZS3"
      },
      "source": [
        "#### InceptionV3"
      ]
    },
    {
      "cell_type": "code",
      "execution_count": null,
      "metadata": {
        "colab": {
          "base_uri": "https://localhost:8080/"
        },
        "id": "kW3hBQVG5boD",
        "outputId": "c27c9d3e-9018-4277-9fe4-f2aef5ae5814"
      },
      "outputs": [
        {
          "output_type": "stream",
          "name": "stdout",
          "text": [
            "Downloading data from https://storage.googleapis.com/tensorflow/keras-applications/inception_v3/inception_v3_weights_tf_dim_ordering_tf_kernels_notop.h5\n",
            "87910968/87910968 [==============================] - 1s 0us/step\n"
          ]
        }
      ],
      "source": [
        "inception_v3 = tf.keras.applications.InceptionV3(\n",
        "    include_top=False,\n",
        "    weights='imagenet',\n",
        "    input_shape=(IMAGE_SIZE, IMAGE_SIZE, 3),\n",
        ")\n",
        "\n",
        "inception_v3.trainable = False"
      ]
    },
    {
      "cell_type": "code",
      "execution_count": null,
      "metadata": {
        "colab": {
          "base_uri": "https://localhost:8080/"
        },
        "id": "O1W7yJ8n55R-",
        "outputId": "964dd987-253f-4112-8e80-ddd1fd8c74c9"
      },
      "outputs": [
        {
          "output_type": "stream",
          "name": "stdout",
          "text": [
            "Model: \"model_2\"\n",
            "_________________________________________________________________\n",
            " Layer (type)                Output Shape              Param #   \n",
            "=================================================================\n",
            " input_6 (InputLayer)        [(None, 256, 256, 3)]     0         \n",
            "                                                                 \n",
            " inception_v3 (Functional)   (None, 6, 6, 2048)        21802784  \n",
            "                                                                 \n",
            " global_average_pooling2d_2  (None, 2048)              0         \n",
            "  (GlobalAveragePooling2D)                                       \n",
            "                                                                 \n",
            " dense_6 (Dense)             (None, 1024)              2098176   \n",
            "                                                                 \n",
            " batch_normalization_96 (Ba  (None, 1024)              4096      \n",
            " tchNormalization)                                               \n",
            "                                                                 \n",
            " dense_7 (Dense)             (None, 128)               131200    \n",
            "                                                                 \n",
            " dense_8 (Dense)             (None, 10)                1290      \n",
            "                                                                 \n",
            "=================================================================\n",
            "Total params: 24037546 (91.70 MB)\n",
            "Trainable params: 2232714 (8.52 MB)\n",
            "Non-trainable params: 21804832 (83.18 MB)\n",
            "_________________________________________________________________\n"
          ]
        }
      ],
      "source": [
        "input = Input(shape=(IMAGE_SIZE, IMAGE_SIZE, 3))\n",
        "\n",
        "x = inception_v3(input, training=False)\n",
        "\n",
        "x = GlobalAveragePooling2D()(x)\n",
        "x = Dense(DENSE_UNITS_1, activation='relu')(x)\n",
        "x = BatchNormalization()(x)\n",
        "x = Dense(DENSE_UNITS_2, activation='relu')(x)\n",
        "output = Dense(NUM_CLASSES, activation='softmax')(x)\n",
        "\n",
        "inception_v3_model = Model(input, output)\n",
        "\n",
        "inception_v3_model.summary()"
      ]
    },
    {
      "cell_type": "code",
      "execution_count": null,
      "metadata": {
        "id": "nuG8RSEU6BOy"
      },
      "outputs": [],
      "source": [
        "inception_v3_model.compile(\n",
        "    optimizer=Adam(learning_rate=LEARNING_RATE),\n",
        "    loss = loss_function,\n",
        "    metrics = metrics\n",
        ")"
      ]
    },
    {
      "cell_type": "code",
      "source": [
        "# Define the preprocessing function for inception\n",
        "def preprocess_inception(image, label):\n",
        "    image = tf.keras.applications.inception_v3.preprocess_input(image)\n",
        "    return image, label"
      ],
      "metadata": {
        "id": "RvID5FkZsjTz"
      },
      "execution_count": null,
      "outputs": []
    },
    {
      "cell_type": "code",
      "execution_count": null,
      "metadata": {
        "colab": {
          "base_uri": "https://localhost:8080/"
        },
        "id": "lat_d4ig6OJP",
        "outputId": "ffd53d27-8605-4503-d491-bb4fbc716489"
      },
      "outputs": [
        {
          "output_type": "stream",
          "name": "stdout",
          "text": [
            "Epoch 1/30\n",
            "51/51 [==============================] - 23s 282ms/step - loss: 0.0179 - accuracy: 0.5700 - top_k_accuracy: 0.7368 - f1_score: 0.4405 - val_loss: 6.5207 - val_accuracy: 0.5546 - val_top_k_accuracy: 0.7050 - val_f1_score: 0.3995 - lr: 0.0100\n",
            "Epoch 2/30\n",
            "51/51 [==============================] - 7s 140ms/step - loss: 0.0070 - accuracy: 0.6161 - top_k_accuracy: 0.8149 - f1_score: 0.4905 - val_loss: 1.8287 - val_accuracy: 0.5959 - val_top_k_accuracy: 0.7611 - val_f1_score: 0.5150 - lr: 0.0100\n",
            "Epoch 3/30\n",
            "51/51 [==============================] - 8s 150ms/step - loss: 0.0057 - accuracy: 0.6665 - top_k_accuracy: 0.8478 - f1_score: 0.5511 - val_loss: 0.9511 - val_accuracy: 0.7316 - val_top_k_accuracy: 0.8761 - val_f1_score: 0.6262 - lr: 0.0100\n",
            "Epoch 4/30\n",
            "51/51 [==============================] - 7s 130ms/step - loss: 0.0051 - accuracy: 0.7031 - top_k_accuracy: 0.8851 - f1_score: 0.6209 - val_loss: 1.2186 - val_accuracy: 0.7050 - val_top_k_accuracy: 0.8201 - val_f1_score: 0.6030 - lr: 0.0100\n",
            "Epoch 5/30\n",
            "51/51 [==============================] - 7s 125ms/step - loss: 0.0046 - accuracy: 0.7242 - top_k_accuracy: 0.8851 - f1_score: 0.6255 - val_loss: 0.9785 - val_accuracy: 0.7316 - val_top_k_accuracy: 0.8584 - val_f1_score: 0.6376 - lr: 0.0100\n",
            "Epoch 6/30\n",
            "51/51 [==============================] - 7s 137ms/step - loss: 0.0044 - accuracy: 0.7280 - top_k_accuracy: 0.9019 - f1_score: 0.6488 - val_loss: 0.9811 - val_accuracy: 0.7109 - val_top_k_accuracy: 0.8909 - val_f1_score: 0.5897 - lr: 0.0100\n",
            "Epoch 7/30\n",
            "51/51 [==============================] - 7s 125ms/step - loss: 0.0043 - accuracy: 0.7534 - top_k_accuracy: 0.8981 - f1_score: 0.6581 - val_loss: 0.8552 - val_accuracy: 0.7611 - val_top_k_accuracy: 0.8968 - val_f1_score: 0.6389 - lr: 0.0100\n",
            "Epoch 8/30\n",
            "51/51 [==============================] - 7s 143ms/step - loss: 0.0042 - accuracy: 0.7547 - top_k_accuracy: 0.9130 - f1_score: 0.6676 - val_loss: 0.9669 - val_accuracy: 0.7316 - val_top_k_accuracy: 0.8791 - val_f1_score: 0.6153 - lr: 0.0100\n",
            "Epoch 9/30\n",
            "51/51 [==============================] - 7s 126ms/step - loss: 0.0036 - accuracy: 0.7814 - top_k_accuracy: 0.9174 - f1_score: 0.6989 - val_loss: 1.5924 - val_accuracy: 0.6785 - val_top_k_accuracy: 0.8053 - val_f1_score: 0.5437 - lr: 0.0100\n",
            "Epoch 10/30\n",
            "51/51 [==============================] - 7s 128ms/step - loss: 0.0037 - accuracy: 0.7410 - top_k_accuracy: 0.9012 - f1_score: 0.6610 - val_loss: 0.7843 - val_accuracy: 0.7581 - val_top_k_accuracy: 0.8997 - val_f1_score: 0.6498 - lr: 0.0100\n",
            "Epoch 11/30\n",
            "51/51 [==============================] - 8s 139ms/step - loss: 0.0031 - accuracy: 0.7814 - top_k_accuracy: 0.9248 - f1_score: 0.7271 - val_loss: 0.8855 - val_accuracy: 0.7434 - val_top_k_accuracy: 0.8702 - val_f1_score: 0.6666 - lr: 0.0100\n",
            "Epoch 12/30\n",
            "50/51 [============================>.] - ETA: 0s - loss: 0.0033 - accuracy: 0.7975 - top_k_accuracy: 0.9287 - f1_score: 0.7635\n",
            "Epoch 12: ReduceLROnPlateau reducing learning rate to 0.0009999999776482583.\n",
            "51/51 [==============================] - 7s 127ms/step - loss: 0.0033 - accuracy: 0.7969 - top_k_accuracy: 0.9280 - f1_score: 0.7632 - val_loss: 1.3364 - val_accuracy: 0.7168 - val_top_k_accuracy: 0.8525 - val_f1_score: 0.5566 - lr: 0.0100\n",
            "Epoch 13/30\n",
            "51/51 [==============================] - 7s 137ms/step - loss: 0.0023 - accuracy: 0.8323 - top_k_accuracy: 0.9441 - f1_score: 0.7835 - val_loss: 0.8920 - val_accuracy: 0.7729 - val_top_k_accuracy: 0.8879 - val_f1_score: 0.6559 - lr: 1.0000e-03\n",
            "Epoch 14/30\n",
            "51/51 [==============================] - 7s 143ms/step - loss: 0.0020 - accuracy: 0.8478 - top_k_accuracy: 0.9484 - f1_score: 0.8134 - val_loss: 0.7692 - val_accuracy: 0.7876 - val_top_k_accuracy: 0.9056 - val_f1_score: 0.7040 - lr: 1.0000e-03\n",
            "Epoch 15/30\n",
            "51/51 [==============================] - 7s 130ms/step - loss: 0.0019 - accuracy: 0.8565 - top_k_accuracy: 0.9571 - f1_score: 0.8244 - val_loss: 0.7447 - val_accuracy: 0.8024 - val_top_k_accuracy: 0.9086 - val_f1_score: 0.7276 - lr: 1.0000e-03\n",
            "Epoch 16/30\n",
            "51/51 [==============================] - 7s 131ms/step - loss: 0.0017 - accuracy: 0.8696 - top_k_accuracy: 0.9584 - f1_score: 0.8365 - val_loss: 0.7331 - val_accuracy: 0.7906 - val_top_k_accuracy: 0.9115 - val_f1_score: 0.7130 - lr: 1.0000e-03\n",
            "Epoch 17/30\n",
            "51/51 [==============================] - 8s 146ms/step - loss: 0.0018 - accuracy: 0.8764 - top_k_accuracy: 0.9652 - f1_score: 0.8469 - val_loss: 0.7057 - val_accuracy: 0.7876 - val_top_k_accuracy: 0.9056 - val_f1_score: 0.7071 - lr: 1.0000e-03\n",
            "Epoch 18/30\n",
            "51/51 [==============================] - 7s 125ms/step - loss: 0.0017 - accuracy: 0.8758 - top_k_accuracy: 0.9696 - f1_score: 0.8599 - val_loss: 0.6757 - val_accuracy: 0.7817 - val_top_k_accuracy: 0.9056 - val_f1_score: 0.6974 - lr: 1.0000e-03\n",
            "Epoch 19/30\n",
            "51/51 [==============================] - 8s 143ms/step - loss: 0.0015 - accuracy: 0.8826 - top_k_accuracy: 0.9708 - f1_score: 0.8567 - val_loss: 0.6934 - val_accuracy: 0.7994 - val_top_k_accuracy: 0.9233 - val_f1_score: 0.7209 - lr: 1.0000e-03\n",
            "Epoch 20/30\n",
            "51/51 [==============================] - 7s 130ms/step - loss: 0.0014 - accuracy: 0.8963 - top_k_accuracy: 0.9689 - f1_score: 0.8850 - val_loss: 0.6757 - val_accuracy: 0.8083 - val_top_k_accuracy: 0.9204 - val_f1_score: 0.7263 - lr: 1.0000e-03\n",
            "Epoch 21/30\n",
            "51/51 [==============================] - 7s 126ms/step - loss: 0.0014 - accuracy: 0.8975 - top_k_accuracy: 0.9770 - f1_score: 0.8700 - val_loss: 0.7022 - val_accuracy: 0.8171 - val_top_k_accuracy: 0.9086 - val_f1_score: 0.7591 - lr: 1.0000e-03\n",
            "Epoch 22/30\n",
            "51/51 [==============================] - 7s 127ms/step - loss: 0.0014 - accuracy: 0.8932 - top_k_accuracy: 0.9733 - f1_score: 0.8697 - val_loss: 0.6726 - val_accuracy: 0.8112 - val_top_k_accuracy: 0.9056 - val_f1_score: 0.7275 - lr: 1.0000e-03\n",
            "Epoch 23/30\n",
            "51/51 [==============================] - 7s 127ms/step - loss: 0.0013 - accuracy: 0.9081 - top_k_accuracy: 0.9770 - f1_score: 0.8961 - val_loss: 0.7326 - val_accuracy: 0.8053 - val_top_k_accuracy: 0.9145 - val_f1_score: 0.7394 - lr: 1.0000e-03\n",
            "Epoch 24/30\n",
            "51/51 [==============================] - 7s 136ms/step - loss: 0.0013 - accuracy: 0.9000 - top_k_accuracy: 0.9720 - f1_score: 0.8859 - val_loss: 0.7400 - val_accuracy: 0.8053 - val_top_k_accuracy: 0.9145 - val_f1_score: 0.7294 - lr: 1.0000e-03\n",
            "Epoch 25/30\n",
            "51/51 [==============================] - 7s 130ms/step - loss: 0.0013 - accuracy: 0.9050 - top_k_accuracy: 0.9764 - f1_score: 0.8981 - val_loss: 0.7165 - val_accuracy: 0.8024 - val_top_k_accuracy: 0.9115 - val_f1_score: 0.7216 - lr: 1.0000e-03\n",
            "Epoch 26/30\n",
            "50/51 [============================>.] - ETA: 0s - loss: 0.0010 - accuracy: 0.9206 - top_k_accuracy: 0.9825 - f1_score: 0.9168\n",
            "Epoch 26: ReduceLROnPlateau reducing learning rate to 9.999999310821295e-05.\n",
            "51/51 [==============================] - 7s 134ms/step - loss: 0.0010 - accuracy: 0.9211 - top_k_accuracy: 0.9826 - f1_score: 0.9172 - val_loss: 0.7065 - val_accuracy: 0.8024 - val_top_k_accuracy: 0.9145 - val_f1_score: 0.7204 - lr: 1.0000e-03\n",
            "Epoch 27/30\n",
            "51/51 [==============================] - 8s 144ms/step - loss: 0.0011 - accuracy: 0.9255 - top_k_accuracy: 0.9801 - f1_score: 0.9210 - val_loss: 0.7061 - val_accuracy: 0.8024 - val_top_k_accuracy: 0.9145 - val_f1_score: 0.7204 - lr: 1.0000e-04\n",
            "Epoch 28/30\n",
            "51/51 [==============================] - 7s 128ms/step - loss: 0.0011 - accuracy: 0.9180 - top_k_accuracy: 0.9863 - f1_score: 0.9095 - val_loss: 0.7013 - val_accuracy: 0.8024 - val_top_k_accuracy: 0.9115 - val_f1_score: 0.7196 - lr: 1.0000e-04\n",
            "Epoch 29/30\n",
            "51/51 [==============================] - 7s 133ms/step - loss: 0.0010 - accuracy: 0.9248 - top_k_accuracy: 0.9814 - f1_score: 0.9197 - val_loss: 0.6968 - val_accuracy: 0.8083 - val_top_k_accuracy: 0.9174 - val_f1_score: 0.7256 - lr: 1.0000e-04\n",
            "Epoch 30/30\n",
            "51/51 [==============================] - 7s 123ms/step - loss: 0.0012 - accuracy: 0.9186 - top_k_accuracy: 0.9845 - f1_score: 0.9106 - val_loss: 0.6966 - val_accuracy: 0.8083 - val_top_k_accuracy: 0.9174 - val_f1_score: 0.7253 - lr: 1.0000e-04\n"
          ]
        }
      ],
      "source": [
        "history_inc = inception_v3_model.fit(train_dataset.map(preprocess_inception, num_parallel_calls=AUTOTUNE),\n",
        "                                    validation_data=validation_dataset.map(preprocess_inception, num_parallel_calls=AUTOTUNE),\n",
        "                                    epochs=NUM_EPOCHS,\n",
        "                                    class_weight=class_weights,\n",
        "                                    callbacks=[plateau_callback],\n",
        "                                    verbose=1)"
      ]
    },
    {
      "cell_type": "code",
      "execution_count": null,
      "metadata": {
        "id": "u5LyoG496XGl"
      },
      "outputs": [],
      "source": [
        "inception_v3_model.save_weights('weights_inception.h5')"
      ]
    },
    {
      "cell_type": "markdown",
      "metadata": {
        "id": "41321I3O6hiS"
      },
      "source": [
        "##### Finetunning"
      ]
    },
    {
      "cell_type": "code",
      "execution_count": null,
      "metadata": {
        "id": "DoNRCKq26jfo"
      },
      "outputs": [],
      "source": [
        "# Load the weights saved after the initial transfer learning phase\n",
        "inception_v3_model.load_weights('weights_inception.h5')\n",
        "\n",
        "# Unfreeze the layers for fine-tuning\n",
        "inception_v3.trainable = True\n",
        "\n",
        "fine_tune_at = int(len(inception_v3.layers) * 0.8)  # Unfreeze top 20% of layers\n",
        "\n",
        "for layer in inception_v3.layers[:fine_tune_at]:\n",
        "    layer.trainable = False"
      ]
    },
    {
      "cell_type": "code",
      "execution_count": null,
      "metadata": {
        "colab": {
          "base_uri": "https://localhost:8080/"
        },
        "id": "4XGpNlFl65z2",
        "outputId": "5e76488a-86e7-4d39-d03e-cb795e1a6351"
      },
      "outputs": [
        {
          "output_type": "stream",
          "name": "stdout",
          "text": [
            "Epoch 1/30\n",
            "51/51 [==============================] - 22s 192ms/step - loss: 0.0013 - accuracy: 0.8933 - top_k_accuracy: 0.9723 - f1_score: 0.8685 - val_loss: 0.6990 - val_accuracy: 0.8053 - val_top_k_accuracy: 0.9086 - val_f1_score: 0.7612\n",
            "Epoch 2/30\n",
            "51/51 [==============================] - 8s 151ms/step - loss: 9.3905e-04 - accuracy: 0.9280 - top_k_accuracy: 0.9839 - f1_score: 0.9217 - val_loss: 0.6880 - val_accuracy: 0.8083 - val_top_k_accuracy: 0.9145 - val_f1_score: 0.7617\n",
            "Epoch 3/30\n",
            "51/51 [==============================] - 8s 154ms/step - loss: 0.0010 - accuracy: 0.9298 - top_k_accuracy: 0.9839 - f1_score: 0.9170 - val_loss: 0.7130 - val_accuracy: 0.8171 - val_top_k_accuracy: 0.9145 - val_f1_score: 0.7147\n",
            "Epoch 4/30\n",
            "51/51 [==============================] - 9s 162ms/step - loss: 7.3346e-04 - accuracy: 0.9466 - top_k_accuracy: 0.9894 - f1_score: 0.9394 - val_loss: 0.7116 - val_accuracy: 0.8201 - val_top_k_accuracy: 0.9086 - val_f1_score: 0.7644\n",
            "Epoch 5/30\n",
            "51/51 [==============================] - 8s 150ms/step - loss: 7.5445e-04 - accuracy: 0.9441 - top_k_accuracy: 0.9901 - f1_score: 0.9357 - val_loss: 0.7347 - val_accuracy: 0.8053 - val_top_k_accuracy: 0.9292 - val_f1_score: 0.7529\n",
            "Epoch 6/30\n",
            "51/51 [==============================] - 8s 147ms/step - loss: 7.6541e-04 - accuracy: 0.9447 - top_k_accuracy: 0.9882 - f1_score: 0.9328 - val_loss: 0.6880 - val_accuracy: 0.8230 - val_top_k_accuracy: 0.9145 - val_f1_score: 0.7690\n",
            "Epoch 7/30\n",
            "51/51 [==============================] - 8s 158ms/step - loss: 6.9207e-04 - accuracy: 0.9484 - top_k_accuracy: 0.9913 - f1_score: 0.9438 - val_loss: 0.7043 - val_accuracy: 0.8171 - val_top_k_accuracy: 0.9086 - val_f1_score: 0.7637\n",
            "Epoch 8/30\n",
            "51/51 [==============================] - 8s 159ms/step - loss: 5.8490e-04 - accuracy: 0.9609 - top_k_accuracy: 0.9894 - f1_score: 0.9562 - val_loss: 0.6933 - val_accuracy: 0.8260 - val_top_k_accuracy: 0.9174 - val_f1_score: 0.7736\n",
            "Epoch 9/30\n",
            "51/51 [==============================] - 8s 149ms/step - loss: 4.8012e-04 - accuracy: 0.9652 - top_k_accuracy: 0.9913 - f1_score: 0.9631 - val_loss: 0.6718 - val_accuracy: 0.8378 - val_top_k_accuracy: 0.9204 - val_f1_score: 0.7923\n",
            "Epoch 10/30\n",
            "51/51 [==============================] - 8s 146ms/step - loss: 4.1269e-04 - accuracy: 0.9671 - top_k_accuracy: 0.9944 - f1_score: 0.9608 - val_loss: 0.6850 - val_accuracy: 0.8319 - val_top_k_accuracy: 0.9233 - val_f1_score: 0.7855\n",
            "Epoch 11/30\n",
            "51/51 [==============================] - 8s 151ms/step - loss: 4.7035e-04 - accuracy: 0.9745 - top_k_accuracy: 0.9925 - f1_score: 0.9735 - val_loss: 0.7232 - val_accuracy: 0.8348 - val_top_k_accuracy: 0.9292 - val_f1_score: 0.7840\n",
            "Epoch 12/30\n",
            "51/51 [==============================] - 8s 149ms/step - loss: 3.9602e-04 - accuracy: 0.9733 - top_k_accuracy: 0.9919 - f1_score: 0.9622 - val_loss: 0.6967 - val_accuracy: 0.8407 - val_top_k_accuracy: 0.9174 - val_f1_score: 0.7816\n",
            "Epoch 13/30\n",
            "51/51 [==============================] - 8s 146ms/step - loss: 3.5800e-04 - accuracy: 0.9752 - top_k_accuracy: 0.9932 - f1_score: 0.9698 - val_loss: 0.6967 - val_accuracy: 0.8289 - val_top_k_accuracy: 0.9174 - val_f1_score: 0.7732\n",
            "Epoch 14/30\n",
            "51/51 [==============================] - 8s 161ms/step - loss: 3.5138e-04 - accuracy: 0.9758 - top_k_accuracy: 0.9950 - f1_score: 0.9749 - val_loss: 0.7069 - val_accuracy: 0.8348 - val_top_k_accuracy: 0.9351 - val_f1_score: 0.7772\n",
            "Epoch 15/30\n",
            "51/51 [==============================] - 8s 149ms/step - loss: 2.8130e-04 - accuracy: 0.9795 - top_k_accuracy: 0.9938 - f1_score: 0.9747 - val_loss: 0.6807 - val_accuracy: 0.8348 - val_top_k_accuracy: 0.9292 - val_f1_score: 0.7793\n",
            "Epoch 16/30\n",
            "51/51 [==============================] - 7s 143ms/step - loss: 2.9270e-04 - accuracy: 0.9826 - top_k_accuracy: 0.9957 - f1_score: 0.9781 - val_loss: 0.6886 - val_accuracy: 0.8348 - val_top_k_accuracy: 0.9322 - val_f1_score: 0.7778\n",
            "Epoch 17/30\n",
            "51/51 [==============================] - 8s 152ms/step - loss: 2.6332e-04 - accuracy: 0.9814 - top_k_accuracy: 0.9957 - f1_score: 0.9769 - val_loss: 0.6690 - val_accuracy: 0.8378 - val_top_k_accuracy: 0.9410 - val_f1_score: 0.7831\n",
            "Epoch 18/30\n",
            "51/51 [==============================] - 8s 150ms/step - loss: 2.4615e-04 - accuracy: 0.9820 - top_k_accuracy: 0.9944 - f1_score: 0.9751 - val_loss: 0.6991 - val_accuracy: 0.8348 - val_top_k_accuracy: 0.9351 - val_f1_score: 0.7799\n",
            "Epoch 19/30\n",
            "51/51 [==============================] - 8s 148ms/step - loss: 2.0975e-04 - accuracy: 0.9882 - top_k_accuracy: 0.9994 - f1_score: 0.9881 - val_loss: 0.6726 - val_accuracy: 0.8437 - val_top_k_accuracy: 0.9351 - val_f1_score: 0.8052\n",
            "Epoch 20/30\n",
            "51/51 [==============================] - 8s 146ms/step - loss: 2.4212e-04 - accuracy: 0.9882 - top_k_accuracy: 0.9975 - f1_score: 0.9873 - val_loss: 0.6824 - val_accuracy: 0.8348 - val_top_k_accuracy: 0.9263 - val_f1_score: 0.8071\n",
            "Epoch 21/30\n",
            "51/51 [==============================] - 8s 151ms/step - loss: 1.6836e-04 - accuracy: 0.9901 - top_k_accuracy: 0.9994 - f1_score: 0.9874 - val_loss: 0.7037 - val_accuracy: 0.8260 - val_top_k_accuracy: 0.9351 - val_f1_score: 0.7720\n",
            "Epoch 22/30\n",
            "51/51 [==============================] - 8s 150ms/step - loss: 2.1682e-04 - accuracy: 0.9913 - top_k_accuracy: 0.9957 - f1_score: 0.9926 - val_loss: 0.6951 - val_accuracy: 0.8378 - val_top_k_accuracy: 0.9410 - val_f1_score: 0.7946\n",
            "Epoch 23/30\n",
            "51/51 [==============================] - 8s 150ms/step - loss: 1.8010e-04 - accuracy: 0.9894 - top_k_accuracy: 0.9975 - f1_score: 0.9870 - val_loss: 0.6912 - val_accuracy: 0.8319 - val_top_k_accuracy: 0.9322 - val_f1_score: 0.7773\n",
            "Epoch 24/30\n",
            "51/51 [==============================] - 8s 146ms/step - loss: 1.7724e-04 - accuracy: 0.9888 - top_k_accuracy: 0.9957 - f1_score: 0.9887 - val_loss: 0.6792 - val_accuracy: 0.8496 - val_top_k_accuracy: 0.9351 - val_f1_score: 0.8143\n",
            "Epoch 25/30\n",
            "51/51 [==============================] - 8s 157ms/step - loss: 1.5353e-04 - accuracy: 0.9932 - top_k_accuracy: 0.9981 - f1_score: 0.9892 - val_loss: 0.7282 - val_accuracy: 0.8466 - val_top_k_accuracy: 0.9381 - val_f1_score: 0.8103\n",
            "Epoch 26/30\n",
            "51/51 [==============================] - 8s 149ms/step - loss: 1.3419e-04 - accuracy: 0.9925 - top_k_accuracy: 0.9981 - f1_score: 0.9909 - val_loss: 0.7261 - val_accuracy: 0.8437 - val_top_k_accuracy: 0.9292 - val_f1_score: 0.8061\n",
            "Epoch 27/30\n",
            "51/51 [==============================] - 8s 147ms/step - loss: 1.9270e-04 - accuracy: 0.9901 - top_k_accuracy: 0.9981 - f1_score: 0.9875 - val_loss: 0.7461 - val_accuracy: 0.8348 - val_top_k_accuracy: 0.9351 - val_f1_score: 0.7845\n",
            "Epoch 28/30\n",
            "51/51 [==============================] - 8s 149ms/step - loss: 1.9008e-04 - accuracy: 0.9932 - top_k_accuracy: 0.9994 - f1_score: 0.9923 - val_loss: 0.7708 - val_accuracy: 0.8466 - val_top_k_accuracy: 0.9322 - val_f1_score: 0.7898\n",
            "Epoch 29/30\n",
            "51/51 [==============================] - 8s 154ms/step - loss: 1.4083e-04 - accuracy: 0.9938 - top_k_accuracy: 0.9988 - f1_score: 0.9922 - val_loss: 0.8012 - val_accuracy: 0.8348 - val_top_k_accuracy: 0.9233 - val_f1_score: 0.7971\n",
            "Epoch 30/30\n",
            "51/51 [==============================] - 8s 162ms/step - loss: 1.8068e-04 - accuracy: 0.9919 - top_k_accuracy: 0.9975 - f1_score: 0.9875 - val_loss: 0.7903 - val_accuracy: 0.8466 - val_top_k_accuracy: 0.9292 - val_f1_score: 0.8054\n"
          ]
        }
      ],
      "source": [
        "inception_v3_model.compile(\n",
        "    optimizer=Adam(learning_rate=1e-5),\n",
        "    loss=loss_function,\n",
        "    metrics=metrics\n",
        ")\n",
        "\n",
        "# Fine-tune the model\n",
        "history_fine_tune = inception_v3_model.fit(\n",
        "    train_dataset.map(preprocess_inception, num_parallel_calls=AUTOTUNE),\n",
        "    validation_data=validation_dataset.map(preprocess_inception, num_parallel_calls=AUTOTUNE),\n",
        "    epochs=NUM_EPOCHS,\n",
        "    class_weight=class_weights,\n",
        "    verbose=1\n",
        ")"
      ]
    },
    {
      "cell_type": "code",
      "execution_count": null,
      "metadata": {
        "id": "k3v_JADB7A6L"
      },
      "outputs": [],
      "source": [
        "efficient_netB5_model.save_weights('fine_tuned_weights_inception.h5')"
      ]
    },
    {
      "cell_type": "markdown",
      "metadata": {
        "id": "nCllu7kq7Hd7"
      },
      "source": [
        "#### MobileNet"
      ]
    },
    {
      "cell_type": "code",
      "execution_count": null,
      "metadata": {
        "colab": {
          "base_uri": "https://localhost:8080/"
        },
        "id": "wJklDkfA7Mx_",
        "outputId": "9c580984-4f54-40f6-d700-0729f7e9a95f"
      },
      "outputs": [
        {
          "output_type": "stream",
          "name": "stderr",
          "text": [
            "WARNING:tensorflow:`input_shape` is undefined or non-square, or `rows` is not in [96, 128, 160, 192, 224]. Weights for input shape (224, 224) will be loaded as the default.\n"
          ]
        },
        {
          "output_type": "stream",
          "name": "stdout",
          "text": [
            "Downloading data from https://storage.googleapis.com/tensorflow/keras-applications/mobilenet_v2/mobilenet_v2_weights_tf_dim_ordering_tf_kernels_1.0_224_no_top.h5\n",
            "9406464/9406464 [==============================] - 0s 0us/step\n"
          ]
        }
      ],
      "source": [
        "mobile_net_v2 = tf.keras.applications.MobileNetV2(\n",
        "    include_top=False,\n",
        "    weights='imagenet',\n",
        "    input_shape=(IMAGE_SIZE, IMAGE_SIZE, 3),\n",
        ")\n",
        "\n",
        "mobile_net_v2.trainable = False"
      ]
    },
    {
      "cell_type": "code",
      "execution_count": null,
      "metadata": {
        "colab": {
          "base_uri": "https://localhost:8080/"
        },
        "id": "XaEAxc-O7iK-",
        "outputId": "65331e01-4f09-470a-fa88-b24698ba6e29"
      },
      "outputs": [
        {
          "output_type": "stream",
          "name": "stdout",
          "text": [
            "Model: \"model_3\"\n",
            "_________________________________________________________________\n",
            " Layer (type)                Output Shape              Param #   \n",
            "=================================================================\n",
            " input_8 (InputLayer)        [(None, 256, 256, 3)]     0         \n",
            "                                                                 \n",
            " mobilenetv2_1.00_224 (Func  (None, 8, 8, 1280)        2257984   \n",
            " tional)                                                         \n",
            "                                                                 \n",
            " global_average_pooling2d_3  (None, 1280)              0         \n",
            "  (GlobalAveragePooling2D)                                       \n",
            "                                                                 \n",
            " dense_9 (Dense)             (None, 1024)              1311744   \n",
            "                                                                 \n",
            " batch_normalization_97 (Ba  (None, 1024)              4096      \n",
            " tchNormalization)                                               \n",
            "                                                                 \n",
            " dense_10 (Dense)            (None, 128)               131200    \n",
            "                                                                 \n",
            " dense_11 (Dense)            (None, 10)                1290      \n",
            "                                                                 \n",
            "=================================================================\n",
            "Total params: 3706314 (14.14 MB)\n",
            "Trainable params: 1446282 (5.52 MB)\n",
            "Non-trainable params: 2260032 (8.62 MB)\n",
            "_________________________________________________________________\n"
          ]
        }
      ],
      "source": [
        "input = Input(shape=(IMAGE_SIZE, IMAGE_SIZE, 3))\n",
        "\n",
        "x = mobile_net_v2(input, training=False)\n",
        "\n",
        "x = GlobalAveragePooling2D()(x)\n",
        "x = Dense(DENSE_UNITS_1, activation='relu')(x)\n",
        "x = BatchNormalization()(x)\n",
        "x = Dense(DENSE_UNITS_2, activation='relu')(x)\n",
        "output = Dense(NUM_CLASSES, activation='softmax')(x)\n",
        "\n",
        "mobile_net_v2_model = Model(input, output)\n",
        "\n",
        "mobile_net_v2_model.summary()"
      ]
    },
    {
      "cell_type": "code",
      "execution_count": null,
      "metadata": {
        "id": "fSKfQxB-7oiN"
      },
      "outputs": [],
      "source": [
        "mobile_net_v2_model.compile(\n",
        "    optimizer=Adam(learning_rate=LEARNING_RATE),\n",
        "    loss = loss_function,\n",
        "    metrics = metrics\n",
        ")"
      ]
    },
    {
      "cell_type": "code",
      "source": [
        "# Define the preprocessing function for mobilenet\n",
        "def preprocess_mobile(image, label):\n",
        "    image = tf.keras.applications.mobilenet_v2.preprocess_input(image)\n",
        "    return image, label"
      ],
      "metadata": {
        "id": "8UZ2-lShw6gH"
      },
      "execution_count": null,
      "outputs": []
    },
    {
      "cell_type": "code",
      "execution_count": null,
      "metadata": {
        "colab": {
          "base_uri": "https://localhost:8080/"
        },
        "id": "H5GO4scI7vWq",
        "outputId": "bdc20db8-15e9-4c80-feaf-68f30230525d"
      },
      "outputs": [
        {
          "output_type": "stream",
          "name": "stdout",
          "text": [
            "Epoch 1/30\n",
            "51/51 [==============================] - 14s 178ms/step - loss: 0.0174 - accuracy: 0.5906 - top_k_accuracy: 0.7445 - f1_score: 0.4724 - val_loss: 11.9956 - val_accuracy: 0.4543 - val_top_k_accuracy: 0.5280 - val_f1_score: 0.2227 - lr: 0.0100\n",
            "Epoch 2/30\n",
            "51/51 [==============================] - 5s 100ms/step - loss: 0.0069 - accuracy: 0.6379 - top_k_accuracy: 0.8211 - f1_score: 0.5076 - val_loss: 5.4760 - val_accuracy: 0.4867 - val_top_k_accuracy: 0.5929 - val_f1_score: 0.2262 - lr: 0.0100\n",
            "Epoch 3/30\n",
            "51/51 [==============================] - 7s 131ms/step - loss: 0.0047 - accuracy: 0.7068 - top_k_accuracy: 0.8783 - f1_score: 0.5859 - val_loss: 1.2830 - val_accuracy: 0.6844 - val_top_k_accuracy: 0.8702 - val_f1_score: 0.5442 - lr: 0.0100\n",
            "Epoch 4/30\n",
            "51/51 [==============================] - 6s 112ms/step - loss: 0.0041 - accuracy: 0.7317 - top_k_accuracy: 0.9087 - f1_score: 0.6301 - val_loss: 1.1710 - val_accuracy: 0.6932 - val_top_k_accuracy: 0.9027 - val_f1_score: 0.5846 - lr: 0.0100\n",
            "Epoch 5/30\n",
            "51/51 [==============================] - 6s 122ms/step - loss: 0.0038 - accuracy: 0.7478 - top_k_accuracy: 0.9043 - f1_score: 0.6627 - val_loss: 0.9278 - val_accuracy: 0.7316 - val_top_k_accuracy: 0.8850 - val_f1_score: 0.6282 - lr: 0.0100\n",
            "Epoch 6/30\n",
            "51/51 [==============================] - 6s 109ms/step - loss: 0.0035 - accuracy: 0.7540 - top_k_accuracy: 0.9143 - f1_score: 0.6657 - val_loss: 0.9674 - val_accuracy: 0.7581 - val_top_k_accuracy: 0.8614 - val_f1_score: 0.6899 - lr: 0.0100\n",
            "Epoch 7/30\n",
            "51/51 [==============================] - 6s 112ms/step - loss: 0.0034 - accuracy: 0.7795 - top_k_accuracy: 0.9348 - f1_score: 0.7115 - val_loss: 1.4708 - val_accuracy: 0.6667 - val_top_k_accuracy: 0.8673 - val_f1_score: 0.5170 - lr: 0.0100\n",
            "Epoch 8/30\n",
            "51/51 [==============================] - 6s 123ms/step - loss: 0.0033 - accuracy: 0.7658 - top_k_accuracy: 0.9199 - f1_score: 0.6959 - val_loss: 1.0448 - val_accuracy: 0.7522 - val_top_k_accuracy: 0.8555 - val_f1_score: 0.6153 - lr: 0.0100\n",
            "Epoch 9/30\n",
            "51/51 [==============================] - 5s 94ms/step - loss: 0.0035 - accuracy: 0.7851 - top_k_accuracy: 0.9335 - f1_score: 0.7214 - val_loss: 0.8734 - val_accuracy: 0.7522 - val_top_k_accuracy: 0.9115 - val_f1_score: 0.6835 - lr: 0.0100\n",
            "Epoch 10/30\n",
            "51/51 [==============================] - 6s 110ms/step - loss: 0.0034 - accuracy: 0.7752 - top_k_accuracy: 0.9304 - f1_score: 0.7086 - val_loss: 0.7806 - val_accuracy: 0.7729 - val_top_k_accuracy: 0.9086 - val_f1_score: 0.6680 - lr: 0.0100\n",
            "Epoch 11/30\n",
            "51/51 [==============================] - 5s 98ms/step - loss: 0.0026 - accuracy: 0.8211 - top_k_accuracy: 0.9509 - f1_score: 0.7531 - val_loss: 0.9388 - val_accuracy: 0.7493 - val_top_k_accuracy: 0.9292 - val_f1_score: 0.6252 - lr: 0.0100\n",
            "Epoch 12/30\n",
            "51/51 [==============================] - 7s 135ms/step - loss: 0.0028 - accuracy: 0.8075 - top_k_accuracy: 0.9447 - f1_score: 0.7715 - val_loss: 0.9476 - val_accuracy: 0.7522 - val_top_k_accuracy: 0.9027 - val_f1_score: 0.6990 - lr: 0.0100\n",
            "Epoch 13/30\n",
            "51/51 [==============================] - 5s 98ms/step - loss: 0.0033 - accuracy: 0.7857 - top_k_accuracy: 0.9292 - f1_score: 0.7374 - val_loss: 1.0650 - val_accuracy: 0.7788 - val_top_k_accuracy: 0.9115 - val_f1_score: 0.6560 - lr: 0.0100\n",
            "Epoch 14/30\n",
            "51/51 [==============================] - 6s 108ms/step - loss: 0.0022 - accuracy: 0.8385 - top_k_accuracy: 0.9522 - f1_score: 0.7865 - val_loss: 0.6753 - val_accuracy: 0.8142 - val_top_k_accuracy: 0.9263 - val_f1_score: 0.7521 - lr: 0.0100\n",
            "Epoch 15/30\n",
            "51/51 [==============================] - 6s 110ms/step - loss: 0.0022 - accuracy: 0.8528 - top_k_accuracy: 0.9665 - f1_score: 0.8007 - val_loss: 0.7805 - val_accuracy: 0.8260 - val_top_k_accuracy: 0.9204 - val_f1_score: 0.7650 - lr: 0.0100\n",
            "Epoch 16/30\n",
            "51/51 [==============================] - 5s 94ms/step - loss: 0.0023 - accuracy: 0.8453 - top_k_accuracy: 0.9596 - f1_score: 0.8041 - val_loss: 0.7668 - val_accuracy: 0.8083 - val_top_k_accuracy: 0.9263 - val_f1_score: 0.6886 - lr: 0.0100\n",
            "Epoch 17/30\n",
            "51/51 [==============================] - 6s 109ms/step - loss: 0.0024 - accuracy: 0.8323 - top_k_accuracy: 0.9491 - f1_score: 0.8039 - val_loss: 0.9464 - val_accuracy: 0.7935 - val_top_k_accuracy: 0.9056 - val_f1_score: 0.7339 - lr: 0.0100\n",
            "Epoch 18/30\n",
            "51/51 [==============================] - 7s 125ms/step - loss: 0.0023 - accuracy: 0.8391 - top_k_accuracy: 0.9565 - f1_score: 0.8051 - val_loss: 0.7449 - val_accuracy: 0.8024 - val_top_k_accuracy: 0.9204 - val_f1_score: 0.6938 - lr: 0.0100\n",
            "Epoch 19/30\n",
            "51/51 [==============================] - 6s 111ms/step - loss: 0.0023 - accuracy: 0.8429 - top_k_accuracy: 0.9584 - f1_score: 0.8266 - val_loss: 0.8531 - val_accuracy: 0.8201 - val_top_k_accuracy: 0.9204 - val_f1_score: 0.7609 - lr: 0.0100\n",
            "Epoch 20/30\n",
            "50/51 [============================>.] - ETA: 0s - loss: 0.0022 - accuracy: 0.8363 - top_k_accuracy: 0.9550 - f1_score: 0.7968\n",
            "Epoch 20: ReduceLROnPlateau reducing learning rate to 0.0009999999776482583.\n",
            "51/51 [==============================] - 6s 112ms/step - loss: 0.0023 - accuracy: 0.8348 - top_k_accuracy: 0.9553 - f1_score: 0.7960 - val_loss: 0.9844 - val_accuracy: 0.8053 - val_top_k_accuracy: 0.9263 - val_f1_score: 0.7185 - lr: 0.0100\n",
            "Epoch 21/30\n",
            "51/51 [==============================] - 6s 120ms/step - loss: 0.0015 - accuracy: 0.8708 - top_k_accuracy: 0.9702 - f1_score: 0.8629 - val_loss: 0.7745 - val_accuracy: 0.8053 - val_top_k_accuracy: 0.9292 - val_f1_score: 0.6939 - lr: 1.0000e-03\n",
            "Epoch 22/30\n",
            "51/51 [==============================] - 5s 103ms/step - loss: 0.0013 - accuracy: 0.8981 - top_k_accuracy: 0.9752 - f1_score: 0.8908 - val_loss: 0.7332 - val_accuracy: 0.8201 - val_top_k_accuracy: 0.9410 - val_f1_score: 0.7377 - lr: 1.0000e-03\n",
            "Epoch 23/30\n",
            "51/51 [==============================] - 7s 123ms/step - loss: 0.0013 - accuracy: 0.8938 - top_k_accuracy: 0.9801 - f1_score: 0.8945 - val_loss: 0.6913 - val_accuracy: 0.8348 - val_top_k_accuracy: 0.9351 - val_f1_score: 0.7495 - lr: 1.0000e-03\n",
            "Epoch 24/30\n",
            "51/51 [==============================] - 7s 131ms/step - loss: 0.0011 - accuracy: 0.9149 - top_k_accuracy: 0.9826 - f1_score: 0.9124 - val_loss: 0.7072 - val_accuracy: 0.8319 - val_top_k_accuracy: 0.9351 - val_f1_score: 0.7493 - lr: 1.0000e-03\n",
            "Epoch 25/30\n",
            "51/51 [==============================] - 5s 100ms/step - loss: 0.0011 - accuracy: 0.9081 - top_k_accuracy: 0.9832 - f1_score: 0.8991 - val_loss: 0.6801 - val_accuracy: 0.8348 - val_top_k_accuracy: 0.9410 - val_f1_score: 0.7689 - lr: 1.0000e-03\n",
            "Epoch 26/30\n",
            "51/51 [==============================] - 6s 114ms/step - loss: 0.0012 - accuracy: 0.9081 - top_k_accuracy: 0.9752 - f1_score: 0.8946 - val_loss: 0.6681 - val_accuracy: 0.8378 - val_top_k_accuracy: 0.9381 - val_f1_score: 0.7717 - lr: 1.0000e-03\n",
            "Epoch 27/30\n",
            "51/51 [==============================] - 6s 114ms/step - loss: 0.0010 - accuracy: 0.9211 - top_k_accuracy: 0.9832 - f1_score: 0.9217 - val_loss: 0.6834 - val_accuracy: 0.8378 - val_top_k_accuracy: 0.9381 - val_f1_score: 0.7680 - lr: 1.0000e-03\n",
            "Epoch 28/30\n",
            "51/51 [==============================] - 6s 110ms/step - loss: 9.1328e-04 - accuracy: 0.9280 - top_k_accuracy: 0.9857 - f1_score: 0.9243 - val_loss: 0.7354 - val_accuracy: 0.8201 - val_top_k_accuracy: 0.9322 - val_f1_score: 0.7502 - lr: 1.0000e-03\n",
            "Epoch 29/30\n",
            "51/51 [==============================] - 6s 114ms/step - loss: 9.5458e-04 - accuracy: 0.9248 - top_k_accuracy: 0.9863 - f1_score: 0.9219 - val_loss: 0.7299 - val_accuracy: 0.8407 - val_top_k_accuracy: 0.9351 - val_f1_score: 0.7728 - lr: 1.0000e-03\n",
            "Epoch 30/30\n",
            "51/51 [==============================] - 6s 105ms/step - loss: 8.7877e-04 - accuracy: 0.9298 - top_k_accuracy: 0.9863 - f1_score: 0.9272 - val_loss: 0.7377 - val_accuracy: 0.8378 - val_top_k_accuracy: 0.9351 - val_f1_score: 0.7691 - lr: 1.0000e-03\n"
          ]
        }
      ],
      "source": [
        "history_mob = mobile_net_v2_model.fit(train_dataset.map(preprocess_mobile, num_parallel_calls=AUTOTUNE),\n",
        "                                    validation_data=validation_dataset.map(preprocess_mobile, num_parallel_calls=AUTOTUNE),\n",
        "                                    epochs=NUM_EPOCHS,\n",
        "                                    class_weight=class_weights,\n",
        "                                    callbacks=[plateau_callback],\n",
        "                                    verbose=1)"
      ]
    },
    {
      "cell_type": "code",
      "execution_count": null,
      "metadata": {
        "id": "GwRDS-_a8ApH"
      },
      "outputs": [],
      "source": [
        "mobile_net_v2_model.save_weights('weights_MN.h5')"
      ]
    },
    {
      "cell_type": "markdown",
      "metadata": {
        "id": "4xllgjwW8H_H"
      },
      "source": [
        "##### Finetunning"
      ]
    },
    {
      "cell_type": "code",
      "execution_count": null,
      "metadata": {
        "id": "FnK0GMEX8JQ-"
      },
      "outputs": [],
      "source": [
        "# Load the weights saved after the initial transfer learning phase\n",
        "mobile_net_v2_model.load_weights('weights_MN.h5')\n",
        "\n",
        "# Unfreeze the layers for fine-tuning\n",
        "mobile_net_v2.trainable = True\n",
        "\n",
        "fine_tune_at = int(len(mobile_net_v2.layers) * 0.8)  # Unfreeze top 20% of layers\n",
        "\n",
        "for layer in mobile_net_v2.layers[:fine_tune_at]:\n",
        "    layer.trainable = False"
      ]
    },
    {
      "cell_type": "code",
      "execution_count": null,
      "metadata": {
        "colab": {
          "base_uri": "https://localhost:8080/"
        },
        "id": "DzP5iAWl8XBu",
        "outputId": "c88f529a-56c8-4fa7-df91-72a41215786e"
      },
      "outputs": [
        {
          "output_type": "stream",
          "name": "stdout",
          "text": [
            "Epoch 1/30\n",
            "51/51 [==============================] - 16s 121ms/step - loss: 0.0011 - accuracy: 0.8984 - top_k_accuracy: 0.9759 - f1_score: 0.8802 - val_loss: 0.9534 - val_accuracy: 0.7935 - val_top_k_accuracy: 0.9263 - val_f1_score: 0.7076\n",
            "Epoch 2/30\n",
            "51/51 [==============================] - 7s 127ms/step - loss: 0.0011 - accuracy: 0.9161 - top_k_accuracy: 0.9882 - f1_score: 0.9145 - val_loss: 1.1362 - val_accuracy: 0.7699 - val_top_k_accuracy: 0.9233 - val_f1_score: 0.7253\n",
            "Epoch 3/30\n",
            "51/51 [==============================] - 5s 96ms/step - loss: 0.0012 - accuracy: 0.9068 - top_k_accuracy: 0.9845 - f1_score: 0.9100 - val_loss: 0.8613 - val_accuracy: 0.8201 - val_top_k_accuracy: 0.9263 - val_f1_score: 0.7387\n",
            "Epoch 4/30\n",
            "51/51 [==============================] - 7s 125ms/step - loss: 0.0010 - accuracy: 0.9236 - top_k_accuracy: 0.9845 - f1_score: 0.9243 - val_loss: 0.9326 - val_accuracy: 0.7965 - val_top_k_accuracy: 0.9263 - val_f1_score: 0.7221\n",
            "Epoch 5/30\n",
            "51/51 [==============================] - 5s 100ms/step - loss: 8.4191e-04 - accuracy: 0.9342 - top_k_accuracy: 0.9913 - f1_score: 0.9322 - val_loss: 0.7064 - val_accuracy: 0.8260 - val_top_k_accuracy: 0.9410 - val_f1_score: 0.7383\n",
            "Epoch 6/30\n",
            "51/51 [==============================] - 7s 129ms/step - loss: 7.6326e-04 - accuracy: 0.9410 - top_k_accuracy: 0.9870 - f1_score: 0.9395 - val_loss: 1.0101 - val_accuracy: 0.8171 - val_top_k_accuracy: 0.9322 - val_f1_score: 0.7056\n",
            "Epoch 7/30\n",
            "51/51 [==============================] - 6s 111ms/step - loss: 9.3696e-04 - accuracy: 0.9286 - top_k_accuracy: 0.9882 - f1_score: 0.9352 - val_loss: 1.1597 - val_accuracy: 0.7699 - val_top_k_accuracy: 0.9233 - val_f1_score: 0.6954\n",
            "Epoch 8/30\n",
            "51/51 [==============================] - 6s 110ms/step - loss: 7.6745e-04 - accuracy: 0.9354 - top_k_accuracy: 0.9888 - f1_score: 0.9344 - val_loss: 0.8477 - val_accuracy: 0.8201 - val_top_k_accuracy: 0.9322 - val_f1_score: 0.7505\n",
            "Epoch 9/30\n",
            "51/51 [==============================] - 6s 111ms/step - loss: 7.2423e-04 - accuracy: 0.9391 - top_k_accuracy: 0.9907 - f1_score: 0.9432 - val_loss: 0.7377 - val_accuracy: 0.8437 - val_top_k_accuracy: 0.9381 - val_f1_score: 0.7485\n",
            "Epoch 10/30\n",
            "51/51 [==============================] - 5s 98ms/step - loss: 9.9818e-04 - accuracy: 0.9124 - top_k_accuracy: 0.9789 - f1_score: 0.9156 - val_loss: 0.9025 - val_accuracy: 0.8053 - val_top_k_accuracy: 0.9322 - val_f1_score: 0.7181\n",
            "Epoch 11/30\n",
            "51/51 [==============================] - 6s 111ms/step - loss: 7.7079e-04 - accuracy: 0.9422 - top_k_accuracy: 0.9901 - f1_score: 0.9426 - val_loss: 0.9137 - val_accuracy: 0.8201 - val_top_k_accuracy: 0.9381 - val_f1_score: 0.7657\n",
            "Epoch 12/30\n",
            "51/51 [==============================] - 6s 125ms/step - loss: 6.7976e-04 - accuracy: 0.9472 - top_k_accuracy: 0.9894 - f1_score: 0.9429 - val_loss: 0.7317 - val_accuracy: 0.8348 - val_top_k_accuracy: 0.9381 - val_f1_score: 0.7650\n",
            "Epoch 13/30\n",
            "51/51 [==============================] - 5s 102ms/step - loss: 6.1875e-04 - accuracy: 0.9528 - top_k_accuracy: 0.9913 - f1_score: 0.9557 - val_loss: 0.7878 - val_accuracy: 0.8319 - val_top_k_accuracy: 0.9410 - val_f1_score: 0.7743\n",
            "Epoch 14/30\n",
            "51/51 [==============================] - 5s 98ms/step - loss: 6.2589e-04 - accuracy: 0.9509 - top_k_accuracy: 0.9901 - f1_score: 0.9520 - val_loss: 0.8538 - val_accuracy: 0.8319 - val_top_k_accuracy: 0.9351 - val_f1_score: 0.7661\n",
            "Epoch 15/30\n",
            "51/51 [==============================] - 6s 122ms/step - loss: 6.6612e-04 - accuracy: 0.9528 - top_k_accuracy: 0.9913 - f1_score: 0.9550 - val_loss: 0.8404 - val_accuracy: 0.7965 - val_top_k_accuracy: 0.9381 - val_f1_score: 0.7465\n",
            "Epoch 16/30\n",
            "51/51 [==============================] - 6s 109ms/step - loss: 7.5502e-04 - accuracy: 0.9348 - top_k_accuracy: 0.9907 - f1_score: 0.9358 - val_loss: 0.8811 - val_accuracy: 0.8053 - val_top_k_accuracy: 0.9263 - val_f1_score: 0.7604\n",
            "Epoch 17/30\n",
            "51/51 [==============================] - 6s 107ms/step - loss: 8.5962e-04 - accuracy: 0.9348 - top_k_accuracy: 0.9907 - f1_score: 0.9365 - val_loss: 0.9576 - val_accuracy: 0.7994 - val_top_k_accuracy: 0.9351 - val_f1_score: 0.7563\n",
            "Epoch 18/30\n",
            "51/51 [==============================] - 6s 119ms/step - loss: 7.7038e-04 - accuracy: 0.9416 - top_k_accuracy: 0.9894 - f1_score: 0.9417 - val_loss: 0.8565 - val_accuracy: 0.8171 - val_top_k_accuracy: 0.8997 - val_f1_score: 0.7546\n",
            "Epoch 19/30\n",
            "51/51 [==============================] - 6s 114ms/step - loss: 5.8262e-04 - accuracy: 0.9516 - top_k_accuracy: 0.9932 - f1_score: 0.9448 - val_loss: 0.8805 - val_accuracy: 0.8112 - val_top_k_accuracy: 0.9381 - val_f1_score: 0.7452\n",
            "Epoch 20/30\n",
            "51/51 [==============================] - 6s 113ms/step - loss: 6.3582e-04 - accuracy: 0.9522 - top_k_accuracy: 0.9932 - f1_score: 0.9542 - val_loss: 0.9760 - val_accuracy: 0.8112 - val_top_k_accuracy: 0.9292 - val_f1_score: 0.7483\n",
            "Epoch 21/30\n",
            "51/51 [==============================] - 7s 140ms/step - loss: 5.6226e-04 - accuracy: 0.9553 - top_k_accuracy: 0.9919 - f1_score: 0.9555 - val_loss: 0.7326 - val_accuracy: 0.8378 - val_top_k_accuracy: 0.9263 - val_f1_score: 0.7730\n",
            "Epoch 22/30\n",
            "51/51 [==============================] - 6s 111ms/step - loss: 6.6299e-04 - accuracy: 0.9497 - top_k_accuracy: 0.9919 - f1_score: 0.9514 - val_loss: 1.0531 - val_accuracy: 0.8112 - val_top_k_accuracy: 0.9204 - val_f1_score: 0.7197\n",
            "Epoch 23/30\n",
            "51/51 [==============================] - 7s 134ms/step - loss: 5.0692e-04 - accuracy: 0.9646 - top_k_accuracy: 0.9932 - f1_score: 0.9645 - val_loss: 0.8257 - val_accuracy: 0.8496 - val_top_k_accuracy: 0.9292 - val_f1_score: 0.7860\n",
            "Epoch 24/30\n",
            "51/51 [==============================] - 5s 101ms/step - loss: 5.0071e-04 - accuracy: 0.9571 - top_k_accuracy: 0.9944 - f1_score: 0.9540 - val_loss: 0.8569 - val_accuracy: 0.8112 - val_top_k_accuracy: 0.9410 - val_f1_score: 0.7346\n",
            "Epoch 25/30\n",
            "51/51 [==============================] - 6s 116ms/step - loss: 5.7121e-04 - accuracy: 0.9578 - top_k_accuracy: 0.9950 - f1_score: 0.9587 - val_loss: 1.5569 - val_accuracy: 0.7345 - val_top_k_accuracy: 0.8968 - val_f1_score: 0.6845\n",
            "Epoch 26/30\n",
            "51/51 [==============================] - 6s 114ms/step - loss: 6.6451e-04 - accuracy: 0.9435 - top_k_accuracy: 0.9932 - f1_score: 0.9442 - val_loss: 1.1929 - val_accuracy: 0.7994 - val_top_k_accuracy: 0.9145 - val_f1_score: 0.7482\n",
            "Epoch 27/30\n",
            "51/51 [==============================] - 5s 97ms/step - loss: 5.5830e-04 - accuracy: 0.9503 - top_k_accuracy: 0.9888 - f1_score: 0.9522 - val_loss: 0.7363 - val_accuracy: 0.8171 - val_top_k_accuracy: 0.9322 - val_f1_score: 0.7516\n",
            "Epoch 28/30\n",
            "51/51 [==============================] - 5s 101ms/step - loss: 5.7476e-04 - accuracy: 0.9522 - top_k_accuracy: 0.9919 - f1_score: 0.9488 - val_loss: 0.8363 - val_accuracy: 0.8348 - val_top_k_accuracy: 0.9381 - val_f1_score: 0.7840\n",
            "Epoch 29/30\n",
            "51/51 [==============================] - 6s 114ms/step - loss: 6.7313e-04 - accuracy: 0.9478 - top_k_accuracy: 0.9919 - f1_score: 0.9489 - val_loss: 1.0803 - val_accuracy: 0.8319 - val_top_k_accuracy: 0.9263 - val_f1_score: 0.7985\n",
            "Epoch 30/30\n",
            "51/51 [==============================] - 7s 128ms/step - loss: 5.4308e-04 - accuracy: 0.9540 - top_k_accuracy: 0.9932 - f1_score: 0.9521 - val_loss: 0.8513 - val_accuracy: 0.8319 - val_top_k_accuracy: 0.9322 - val_f1_score: 0.7521\n"
          ]
        }
      ],
      "source": [
        "mobile_net_v2_model.compile(\n",
        "    optimizer=Adam(learning_rate=1e-5),\n",
        "    loss=loss_function,\n",
        "    metrics=metrics\n",
        ")\n",
        "\n",
        "# Fine-tune the model\n",
        "history_fine_tune = mobile_net_v2_model.fit(\n",
        "    train_dataset.map(preprocess_mobile, num_parallel_calls=AUTOTUNE),\n",
        "    validation_data=validation_dataset.map(preprocess_mobile, num_parallel_calls=AUTOTUNE),\n",
        "    epochs=NUM_EPOCHS,\n",
        "    class_weight=class_weights,\n",
        "    verbose=1\n",
        ")"
      ]
    },
    {
      "cell_type": "code",
      "execution_count": null,
      "metadata": {
        "id": "8iaN8aaG8fGW"
      },
      "outputs": [],
      "source": [
        "mobile_net_v2_model.save_weights('fine_tuned_weights_MN.h5')"
      ]
    },
    {
      "cell_type": "markdown",
      "metadata": {
        "id": "hmTXRbJH8nFA"
      },
      "source": [
        "#### VGG19"
      ]
    },
    {
      "cell_type": "code",
      "execution_count": null,
      "metadata": {
        "colab": {
          "base_uri": "https://localhost:8080/"
        },
        "id": "77kLHpeO9dRA",
        "outputId": "7f20d141-7807-4ad4-c105-86f26283c5f4"
      },
      "outputs": [
        {
          "output_type": "stream",
          "name": "stdout",
          "text": [
            "Downloading data from https://storage.googleapis.com/tensorflow/keras-applications/vgg19/vgg19_weights_tf_dim_ordering_tf_kernels_notop.h5\n",
            "80134624/80134624 [==============================] - 0s 0us/step\n"
          ]
        }
      ],
      "source": [
        "vgg19 = tf.keras.applications.VGG19(\n",
        "    include_top=False,\n",
        "    weights='imagenet',\n",
        "    input_shape=(IMAGE_SIZE, IMAGE_SIZE, 3),\n",
        ")\n",
        "\n",
        "vgg19.trainable = False"
      ]
    },
    {
      "cell_type": "code",
      "execution_count": null,
      "metadata": {
        "colab": {
          "base_uri": "https://localhost:8080/"
        },
        "id": "HuqJ3Voj91Mm",
        "outputId": "90c17e54-87b1-49fa-b30c-bc6c7e58cd29"
      },
      "outputs": [
        {
          "output_type": "stream",
          "name": "stdout",
          "text": [
            "Model: \"model_4\"\n",
            "_________________________________________________________________\n",
            " Layer (type)                Output Shape              Param #   \n",
            "=================================================================\n",
            " input_10 (InputLayer)       [(None, 256, 256, 3)]     0         \n",
            "                                                                 \n",
            " vgg19 (Functional)          (None, 8, 8, 512)         20024384  \n",
            "                                                                 \n",
            " global_average_pooling2d_4  (None, 512)               0         \n",
            "  (GlobalAveragePooling2D)                                       \n",
            "                                                                 \n",
            " dense_12 (Dense)            (None, 1024)              525312    \n",
            "                                                                 \n",
            " batch_normalization_98 (Ba  (None, 1024)              4096      \n",
            " tchNormalization)                                               \n",
            "                                                                 \n",
            " dense_13 (Dense)            (None, 128)               131200    \n",
            "                                                                 \n",
            " dense_14 (Dense)            (None, 10)                1290      \n",
            "                                                                 \n",
            "=================================================================\n",
            "Total params: 20686282 (78.91 MB)\n",
            "Trainable params: 659850 (2.52 MB)\n",
            "Non-trainable params: 20026432 (76.39 MB)\n",
            "_________________________________________________________________\n"
          ]
        }
      ],
      "source": [
        "input = Input(shape=(IMAGE_SIZE, IMAGE_SIZE, 3))\n",
        "\n",
        "x = vgg19(input, training=False)\n",
        "\n",
        "x = GlobalAveragePooling2D()(x)\n",
        "x = Dense(DENSE_UNITS_1, activation='relu')(x)\n",
        "x = BatchNormalization()(x)\n",
        "x = Dense(DENSE_UNITS_2, activation='relu')(x)\n",
        "output = Dense(NUM_CLASSES, activation='softmax')(x)\n",
        "\n",
        "vgg19_model = Model(input, output)\n",
        "\n",
        "vgg19_model.summary()"
      ]
    },
    {
      "cell_type": "code",
      "execution_count": null,
      "metadata": {
        "id": "JbPB2Q_h99Ru"
      },
      "outputs": [],
      "source": [
        "vgg19_model.compile(\n",
        "    optimizer=Adam(learning_rate=LEARNING_RATE),\n",
        "    loss = loss_function,\n",
        "    metrics = metrics\n",
        ")"
      ]
    },
    {
      "cell_type": "code",
      "source": [
        "# Define the preprocessing function for vgg\n",
        "def preprocess_vgg(image, label):\n",
        "    image = tf.keras.applications.vgg19.preprocess_input(image)\n",
        "    return image, label"
      ],
      "metadata": {
        "id": "bFSDwVMbx443"
      },
      "execution_count": null,
      "outputs": []
    },
    {
      "cell_type": "code",
      "execution_count": null,
      "metadata": {
        "colab": {
          "base_uri": "https://localhost:8080/"
        },
        "id": "gU1m4V_W-ByM",
        "outputId": "d8ec1d17-7cfe-4d64-d91d-b85e826d803e"
      },
      "outputs": [
        {
          "output_type": "stream",
          "name": "stdout",
          "text": [
            "Epoch 1/30\n",
            "51/51 [==============================] - 35s 496ms/step - loss: 0.0165 - accuracy: 0.5972 - top_k_accuracy: 0.7660 - f1_score: 0.4732 - val_loss: 9.5818 - val_accuracy: 0.4513 - val_top_k_accuracy: 0.5428 - val_f1_score: 0.2259 - lr: 0.0100\n",
            "Epoch 2/30\n",
            "51/51 [==============================] - 15s 279ms/step - loss: 0.0064 - accuracy: 0.6621 - top_k_accuracy: 0.8441 - f1_score: 0.5590 - val_loss: 1.4307 - val_accuracy: 0.6903 - val_top_k_accuracy: 0.8437 - val_f1_score: 0.5300 - lr: 0.0100\n",
            "Epoch 3/30\n",
            "51/51 [==============================] - 14s 269ms/step - loss: 0.0054 - accuracy: 0.7155 - top_k_accuracy: 0.8752 - f1_score: 0.6276 - val_loss: 1.5865 - val_accuracy: 0.6342 - val_top_k_accuracy: 0.8348 - val_f1_score: 0.5334 - lr: 0.0100\n",
            "Epoch 4/30\n",
            "51/51 [==============================] - 15s 272ms/step - loss: 0.0045 - accuracy: 0.7366 - top_k_accuracy: 0.9043 - f1_score: 0.6663 - val_loss: 0.9103 - val_accuracy: 0.7080 - val_top_k_accuracy: 0.8732 - val_f1_score: 0.6148 - lr: 0.0100\n",
            "Epoch 5/30\n",
            "51/51 [==============================] - 17s 323ms/step - loss: 0.0037 - accuracy: 0.7516 - top_k_accuracy: 0.9168 - f1_score: 0.6734 - val_loss: 0.9838 - val_accuracy: 0.7080 - val_top_k_accuracy: 0.8761 - val_f1_score: 0.5701 - lr: 0.0100\n",
            "Epoch 6/30\n",
            "51/51 [==============================] - 15s 283ms/step - loss: 0.0040 - accuracy: 0.7466 - top_k_accuracy: 0.9168 - f1_score: 0.6907 - val_loss: 0.8782 - val_accuracy: 0.7375 - val_top_k_accuracy: 0.8850 - val_f1_score: 0.6449 - lr: 0.0100\n",
            "Epoch 7/30\n",
            "51/51 [==============================] - 15s 298ms/step - loss: 0.0032 - accuracy: 0.7795 - top_k_accuracy: 0.9261 - f1_score: 0.7212 - val_loss: 0.7684 - val_accuracy: 0.7640 - val_top_k_accuracy: 0.9086 - val_f1_score: 0.6744 - lr: 0.0100\n",
            "Epoch 8/30\n",
            "51/51 [==============================] - 15s 280ms/step - loss: 0.0030 - accuracy: 0.7770 - top_k_accuracy: 0.9317 - f1_score: 0.7189 - val_loss: 0.8087 - val_accuracy: 0.7758 - val_top_k_accuracy: 0.8909 - val_f1_score: 0.6324 - lr: 0.0100\n",
            "Epoch 9/30\n",
            "51/51 [==============================] - 14s 275ms/step - loss: 0.0031 - accuracy: 0.7789 - top_k_accuracy: 0.9242 - f1_score: 0.7332 - val_loss: 0.8116 - val_accuracy: 0.7581 - val_top_k_accuracy: 0.8909 - val_f1_score: 0.6316 - lr: 0.0100\n",
            "Epoch 10/30\n",
            "51/51 [==============================] - 15s 280ms/step - loss: 0.0034 - accuracy: 0.7683 - top_k_accuracy: 0.9280 - f1_score: 0.7069 - val_loss: 0.9864 - val_accuracy: 0.7375 - val_top_k_accuracy: 0.9027 - val_f1_score: 0.6642 - lr: 0.0100\n",
            "Epoch 11/30\n",
            "51/51 [==============================] - 15s 282ms/step - loss: 0.0034 - accuracy: 0.7571 - top_k_accuracy: 0.9193 - f1_score: 0.6934 - val_loss: 0.7446 - val_accuracy: 0.8053 - val_top_k_accuracy: 0.9115 - val_f1_score: 0.7343 - lr: 0.0100\n",
            "Epoch 12/30\n",
            "51/51 [==============================] - 14s 274ms/step - loss: 0.0028 - accuracy: 0.8000 - top_k_accuracy: 0.9360 - f1_score: 0.7542 - val_loss: 0.8822 - val_accuracy: 0.7611 - val_top_k_accuracy: 0.9115 - val_f1_score: 0.6673 - lr: 0.0100\n",
            "Epoch 13/30\n",
            "51/51 [==============================] - 15s 284ms/step - loss: 0.0027 - accuracy: 0.8124 - top_k_accuracy: 0.9441 - f1_score: 0.7566 - val_loss: 0.8819 - val_accuracy: 0.7522 - val_top_k_accuracy: 0.8938 - val_f1_score: 0.6647 - lr: 0.0100\n",
            "Epoch 14/30\n",
            "51/51 [==============================] - 15s 283ms/step - loss: 0.0028 - accuracy: 0.8199 - top_k_accuracy: 0.9516 - f1_score: 0.7872 - val_loss: 1.1206 - val_accuracy: 0.7699 - val_top_k_accuracy: 0.9027 - val_f1_score: 0.6687 - lr: 0.0100\n",
            "Epoch 15/30\n",
            "51/51 [==============================] - 15s 282ms/step - loss: 0.0027 - accuracy: 0.8087 - top_k_accuracy: 0.9404 - f1_score: 0.7472 - val_loss: 0.9514 - val_accuracy: 0.7729 - val_top_k_accuracy: 0.9174 - val_f1_score: 0.6619 - lr: 0.0100\n",
            "Epoch 16/30\n",
            "51/51 [==============================] - ETA: 0s - loss: 0.0033 - accuracy: 0.7901 - top_k_accuracy: 0.9329 - f1_score: 0.7384\n",
            "Epoch 16: ReduceLROnPlateau reducing learning rate to 0.0009999999776482583.\n",
            "51/51 [==============================] - 15s 279ms/step - loss: 0.0033 - accuracy: 0.7901 - top_k_accuracy: 0.9329 - f1_score: 0.7384 - val_loss: 1.3661 - val_accuracy: 0.6814 - val_top_k_accuracy: 0.8525 - val_f1_score: 0.5476 - lr: 0.0100\n",
            "Epoch 17/30\n",
            "51/51 [==============================] - 15s 280ms/step - loss: 0.0022 - accuracy: 0.7975 - top_k_accuracy: 0.9267 - f1_score: 0.7625 - val_loss: 0.8454 - val_accuracy: 0.7581 - val_top_k_accuracy: 0.9174 - val_f1_score: 0.6150 - lr: 1.0000e-03\n",
            "Epoch 18/30\n",
            "51/51 [==============================] - 17s 320ms/step - loss: 0.0019 - accuracy: 0.8398 - top_k_accuracy: 0.9410 - f1_score: 0.8108 - val_loss: 0.7314 - val_accuracy: 0.7994 - val_top_k_accuracy: 0.9292 - val_f1_score: 0.6551 - lr: 1.0000e-03\n",
            "Epoch 19/30\n",
            "51/51 [==============================] - 15s 279ms/step - loss: 0.0018 - accuracy: 0.8621 - top_k_accuracy: 0.9646 - f1_score: 0.8473 - val_loss: 0.6996 - val_accuracy: 0.8289 - val_top_k_accuracy: 0.9322 - val_f1_score: 0.7188 - lr: 1.0000e-03\n",
            "Epoch 20/30\n",
            "51/51 [==============================] - 15s 284ms/step - loss: 0.0016 - accuracy: 0.8671 - top_k_accuracy: 0.9752 - f1_score: 0.8445 - val_loss: 0.6715 - val_accuracy: 0.8289 - val_top_k_accuracy: 0.9322 - val_f1_score: 0.7274 - lr: 1.0000e-03\n",
            "Epoch 21/30\n",
            "51/51 [==============================] - 15s 279ms/step - loss: 0.0016 - accuracy: 0.8776 - top_k_accuracy: 0.9733 - f1_score: 0.8689 - val_loss: 0.7280 - val_accuracy: 0.8142 - val_top_k_accuracy: 0.9292 - val_f1_score: 0.7161 - lr: 1.0000e-03\n",
            "Epoch 22/30\n",
            "51/51 [==============================] - 15s 281ms/step - loss: 0.0015 - accuracy: 0.8820 - top_k_accuracy: 0.9776 - f1_score: 0.8697 - val_loss: 0.7237 - val_accuracy: 0.8230 - val_top_k_accuracy: 0.9322 - val_f1_score: 0.7248 - lr: 1.0000e-03\n",
            "Epoch 23/30\n",
            "51/51 [==============================] - 15s 281ms/step - loss: 0.0013 - accuracy: 0.8888 - top_k_accuracy: 0.9733 - f1_score: 0.8707 - val_loss: 0.6919 - val_accuracy: 0.8319 - val_top_k_accuracy: 0.9381 - val_f1_score: 0.7325 - lr: 1.0000e-03\n",
            "Epoch 24/30\n",
            "51/51 [==============================] - 15s 281ms/step - loss: 0.0014 - accuracy: 0.8882 - top_k_accuracy: 0.9776 - f1_score: 0.8739 - val_loss: 0.7018 - val_accuracy: 0.8289 - val_top_k_accuracy: 0.9351 - val_f1_score: 0.7303 - lr: 1.0000e-03\n",
            "Epoch 25/30\n",
            "51/51 [==============================] - 15s 281ms/step - loss: 0.0013 - accuracy: 0.9068 - top_k_accuracy: 0.9820 - f1_score: 0.8909 - val_loss: 0.7265 - val_accuracy: 0.8289 - val_top_k_accuracy: 0.9322 - val_f1_score: 0.7312 - lr: 1.0000e-03\n",
            "Epoch 26/30\n",
            "51/51 [==============================] - 15s 286ms/step - loss: 0.0012 - accuracy: 0.9006 - top_k_accuracy: 0.9795 - f1_score: 0.8875 - val_loss: 0.7573 - val_accuracy: 0.8319 - val_top_k_accuracy: 0.9322 - val_f1_score: 0.7432 - lr: 1.0000e-03\n",
            "Epoch 27/30\n",
            "51/51 [==============================] - 15s 282ms/step - loss: 0.0013 - accuracy: 0.9031 - top_k_accuracy: 0.9776 - f1_score: 0.8952 - val_loss: 0.7377 - val_accuracy: 0.8319 - val_top_k_accuracy: 0.9292 - val_f1_score: 0.7527 - lr: 1.0000e-03\n",
            "Epoch 28/30\n",
            "51/51 [==============================] - 15s 280ms/step - loss: 0.0011 - accuracy: 0.9118 - top_k_accuracy: 0.9863 - f1_score: 0.8944 - val_loss: 0.7293 - val_accuracy: 0.8378 - val_top_k_accuracy: 0.9410 - val_f1_score: 0.7537 - lr: 1.0000e-03\n",
            "Epoch 29/30\n",
            "51/51 [==============================] - 15s 286ms/step - loss: 0.0011 - accuracy: 0.9205 - top_k_accuracy: 0.9851 - f1_score: 0.9093 - val_loss: 0.7431 - val_accuracy: 0.8319 - val_top_k_accuracy: 0.9410 - val_f1_score: 0.7410 - lr: 1.0000e-03\n",
            "Epoch 30/30\n",
            "51/51 [==============================] - 15s 278ms/step - loss: 0.0011 - accuracy: 0.9168 - top_k_accuracy: 0.9839 - f1_score: 0.9084 - val_loss: 0.7451 - val_accuracy: 0.8319 - val_top_k_accuracy: 0.9381 - val_f1_score: 0.7405 - lr: 1.0000e-03\n"
          ]
        }
      ],
      "source": [
        "history_vgg = vgg19_model.fit(train_dataset.map(preprocess_vgg, num_parallel_calls=AUTOTUNE),\n",
        "                              validation_data=validation_dataset.map(preprocess_vgg, num_parallel_calls=AUTOTUNE),\n",
        "                              epochs=NUM_EPOCHS,\n",
        "                              class_weight=class_weights,\n",
        "                              callbacks=[plateau_callback],\n",
        "                              verbose=1)"
      ]
    },
    {
      "cell_type": "code",
      "execution_count": null,
      "metadata": {
        "id": "y4CYvpHt-h-U"
      },
      "outputs": [],
      "source": [
        "vgg19_model.save_weights('weights_VGG.h5')"
      ]
    },
    {
      "cell_type": "markdown",
      "metadata": {
        "id": "0VisF5ew-nFc"
      },
      "source": [
        "##### Finetunning"
      ]
    },
    {
      "cell_type": "code",
      "execution_count": null,
      "metadata": {
        "id": "oFrBLuRz-ogu"
      },
      "outputs": [],
      "source": [
        "# Load the weights saved after the initial transfer learning phase\n",
        "vgg19_model.load_weights('weights_VGG.h5')\n",
        "\n",
        "# Unfreeze the layers for fine-tuning\n",
        "vgg19.trainable = True\n",
        "\n",
        "fine_tune_at = int(len(vgg19.layers) * 0.8)  # Unfreeze top 20% of layers\n",
        "\n",
        "for layer in vgg19.layers[:fine_tune_at]:\n",
        "    layer.trainable = False"
      ]
    },
    {
      "cell_type": "code",
      "execution_count": null,
      "metadata": {
        "colab": {
          "base_uri": "https://localhost:8080/"
        },
        "id": "mvxhgWbD-1SV",
        "outputId": "9741b62c-2d71-452a-9df5-50dc6b006413"
      },
      "outputs": [
        {
          "output_type": "stream",
          "name": "stdout",
          "text": [
            "Epoch 1/30\n",
            "51/51 [==============================] - 19s 303ms/step - loss: 0.0012 - accuracy: 0.8999 - top_k_accuracy: 0.9769 - f1_score: 0.8781 - val_loss: 0.7640 - val_accuracy: 0.8378 - val_top_k_accuracy: 0.9587 - val_f1_score: 0.7805\n",
            "Epoch 2/30\n",
            "51/51 [==============================] - 19s 364ms/step - loss: 9.9006e-04 - accuracy: 0.9248 - top_k_accuracy: 0.9894 - f1_score: 0.9234 - val_loss: 0.8061 - val_accuracy: 0.8201 - val_top_k_accuracy: 0.9410 - val_f1_score: 0.7592\n",
            "Epoch 3/30\n",
            "51/51 [==============================] - 16s 304ms/step - loss: 8.7945e-04 - accuracy: 0.9354 - top_k_accuracy: 0.9901 - f1_score: 0.9295 - val_loss: 0.7547 - val_accuracy: 0.8289 - val_top_k_accuracy: 0.9528 - val_f1_score: 0.7533\n",
            "Epoch 4/30\n",
            "51/51 [==============================] - 16s 302ms/step - loss: 8.7093e-04 - accuracy: 0.9373 - top_k_accuracy: 0.9919 - f1_score: 0.9235 - val_loss: 0.7301 - val_accuracy: 0.8407 - val_top_k_accuracy: 0.9469 - val_f1_score: 0.7835\n",
            "Epoch 5/30\n",
            "51/51 [==============================] - 18s 345ms/step - loss: 7.8575e-04 - accuracy: 0.9429 - top_k_accuracy: 0.9944 - f1_score: 0.9378 - val_loss: 0.8458 - val_accuracy: 0.8466 - val_top_k_accuracy: 0.9587 - val_f1_score: 0.7858\n",
            "Epoch 6/30\n",
            "51/51 [==============================] - 16s 303ms/step - loss: 6.1874e-04 - accuracy: 0.9559 - top_k_accuracy: 0.9944 - f1_score: 0.9529 - val_loss: 0.7787 - val_accuracy: 0.8289 - val_top_k_accuracy: 0.9469 - val_f1_score: 0.7759\n",
            "Epoch 7/30\n",
            "51/51 [==============================] - 16s 302ms/step - loss: 5.3798e-04 - accuracy: 0.9584 - top_k_accuracy: 0.9944 - f1_score: 0.9560 - val_loss: 0.7738 - val_accuracy: 0.8378 - val_top_k_accuracy: 0.9440 - val_f1_score: 0.7655\n",
            "Epoch 8/30\n",
            "51/51 [==============================] - 15s 298ms/step - loss: 5.2746e-04 - accuracy: 0.9658 - top_k_accuracy: 0.9944 - f1_score: 0.9612 - val_loss: 0.7531 - val_accuracy: 0.8230 - val_top_k_accuracy: 0.9528 - val_f1_score: 0.7509\n",
            "Epoch 9/30\n",
            "51/51 [==============================] - 16s 298ms/step - loss: 5.5874e-04 - accuracy: 0.9615 - top_k_accuracy: 0.9963 - f1_score: 0.9633 - val_loss: 0.8576 - val_accuracy: 0.8289 - val_top_k_accuracy: 0.9440 - val_f1_score: 0.7783\n",
            "Epoch 10/30\n",
            "51/51 [==============================] - 15s 298ms/step - loss: 4.2030e-04 - accuracy: 0.9689 - top_k_accuracy: 0.9950 - f1_score: 0.9658 - val_loss: 0.8070 - val_accuracy: 0.8348 - val_top_k_accuracy: 0.9587 - val_f1_score: 0.7609\n",
            "Epoch 11/30\n",
            "51/51 [==============================] - 16s 294ms/step - loss: 5.0595e-04 - accuracy: 0.9702 - top_k_accuracy: 0.9969 - f1_score: 0.9658 - val_loss: 0.8684 - val_accuracy: 0.8348 - val_top_k_accuracy: 0.9469 - val_f1_score: 0.7806\n",
            "Epoch 12/30\n",
            "51/51 [==============================] - 16s 297ms/step - loss: 4.7993e-04 - accuracy: 0.9702 - top_k_accuracy: 0.9957 - f1_score: 0.9718 - val_loss: 0.9759 - val_accuracy: 0.8319 - val_top_k_accuracy: 0.9469 - val_f1_score: 0.7625\n",
            "Epoch 13/30\n",
            "51/51 [==============================] - 15s 293ms/step - loss: 4.2774e-04 - accuracy: 0.9727 - top_k_accuracy: 0.9969 - f1_score: 0.9679 - val_loss: 0.8265 - val_accuracy: 0.8407 - val_top_k_accuracy: 0.9499 - val_f1_score: 0.7801\n",
            "Epoch 14/30\n",
            "51/51 [==============================] - 17s 320ms/step - loss: 3.1386e-04 - accuracy: 0.9801 - top_k_accuracy: 0.9963 - f1_score: 0.9755 - val_loss: 0.7666 - val_accuracy: 0.8437 - val_top_k_accuracy: 0.9558 - val_f1_score: 0.7876\n",
            "Epoch 15/30\n",
            "51/51 [==============================] - 16s 298ms/step - loss: 3.3009e-04 - accuracy: 0.9826 - top_k_accuracy: 0.9981 - f1_score: 0.9822 - val_loss: 0.7632 - val_accuracy: 0.8319 - val_top_k_accuracy: 0.9499 - val_f1_score: 0.7652\n",
            "Epoch 16/30\n",
            "51/51 [==============================] - 16s 307ms/step - loss: 3.3841e-04 - accuracy: 0.9851 - top_k_accuracy: 0.9981 - f1_score: 0.9800 - val_loss: 0.7625 - val_accuracy: 0.8407 - val_top_k_accuracy: 0.9587 - val_f1_score: 0.8003\n",
            "Epoch 17/30\n",
            "51/51 [==============================] - 15s 293ms/step - loss: 2.8686e-04 - accuracy: 0.9888 - top_k_accuracy: 0.9988 - f1_score: 0.9868 - val_loss: 0.7176 - val_accuracy: 0.8407 - val_top_k_accuracy: 0.9499 - val_f1_score: 0.7919\n",
            "Epoch 18/30\n",
            "51/51 [==============================] - 16s 306ms/step - loss: 2.8819e-04 - accuracy: 0.9870 - top_k_accuracy: 0.9981 - f1_score: 0.9845 - val_loss: 0.8346 - val_accuracy: 0.8378 - val_top_k_accuracy: 0.9469 - val_f1_score: 0.7390\n",
            "Epoch 19/30\n",
            "51/51 [==============================] - 16s 300ms/step - loss: 2.6929e-04 - accuracy: 0.9882 - top_k_accuracy: 0.9969 - f1_score: 0.9861 - val_loss: 0.7942 - val_accuracy: 0.8437 - val_top_k_accuracy: 0.9440 - val_f1_score: 0.7758\n",
            "Epoch 20/30\n",
            "51/51 [==============================] - 16s 299ms/step - loss: 2.3735e-04 - accuracy: 0.9882 - top_k_accuracy: 0.9988 - f1_score: 0.9872 - val_loss: 0.8480 - val_accuracy: 0.8319 - val_top_k_accuracy: 0.9469 - val_f1_score: 0.7088\n",
            "Epoch 21/30\n",
            "51/51 [==============================] - 18s 347ms/step - loss: 2.2946e-04 - accuracy: 0.9888 - top_k_accuracy: 0.9988 - f1_score: 0.9835 - val_loss: 0.7555 - val_accuracy: 0.8348 - val_top_k_accuracy: 0.9558 - val_f1_score: 0.7364\n",
            "Epoch 22/30\n",
            "51/51 [==============================] - 16s 301ms/step - loss: 2.6771e-04 - accuracy: 0.9845 - top_k_accuracy: 0.9988 - f1_score: 0.9736 - val_loss: 0.8954 - val_accuracy: 0.8348 - val_top_k_accuracy: 0.9440 - val_f1_score: 0.7712\n",
            "Epoch 23/30\n",
            "51/51 [==============================] - 16s 308ms/step - loss: 1.9115e-04 - accuracy: 0.9876 - top_k_accuracy: 1.0000 - f1_score: 0.9794 - val_loss: 0.8412 - val_accuracy: 0.8466 - val_top_k_accuracy: 0.9528 - val_f1_score: 0.7917\n",
            "Epoch 24/30\n",
            "51/51 [==============================] - 16s 300ms/step - loss: 1.6608e-04 - accuracy: 0.9919 - top_k_accuracy: 0.9994 - f1_score: 0.9904 - val_loss: 0.7998 - val_accuracy: 0.8437 - val_top_k_accuracy: 0.9558 - val_f1_score: 0.7682\n",
            "Epoch 25/30\n",
            "51/51 [==============================] - 17s 323ms/step - loss: 1.3792e-04 - accuracy: 0.9950 - top_k_accuracy: 0.9994 - f1_score: 0.9914 - val_loss: 0.7965 - val_accuracy: 0.8496 - val_top_k_accuracy: 0.9528 - val_f1_score: 0.7726\n",
            "Epoch 26/30\n",
            "51/51 [==============================] - 15s 289ms/step - loss: 1.6099e-04 - accuracy: 0.9919 - top_k_accuracy: 0.9975 - f1_score: 0.9897 - val_loss: 0.7715 - val_accuracy: 0.8407 - val_top_k_accuracy: 0.9469 - val_f1_score: 0.7661\n",
            "Epoch 27/30\n",
            "51/51 [==============================] - 16s 302ms/step - loss: 1.3899e-04 - accuracy: 0.9913 - top_k_accuracy: 0.9994 - f1_score: 0.9882 - val_loss: 0.8071 - val_accuracy: 0.8437 - val_top_k_accuracy: 0.9528 - val_f1_score: 0.7860\n",
            "Epoch 28/30\n",
            "51/51 [==============================] - 16s 311ms/step - loss: 1.1820e-04 - accuracy: 0.9950 - top_k_accuracy: 0.9994 - f1_score: 0.9935 - val_loss: 0.8426 - val_accuracy: 0.8466 - val_top_k_accuracy: 0.9558 - val_f1_score: 0.7874\n",
            "Epoch 29/30\n",
            "51/51 [==============================] - 16s 306ms/step - loss: 1.1775e-04 - accuracy: 0.9975 - top_k_accuracy: 0.9994 - f1_score: 0.9968 - val_loss: 0.8670 - val_accuracy: 0.8496 - val_top_k_accuracy: 0.9528 - val_f1_score: 0.7902\n",
            "Epoch 30/30\n",
            "51/51 [==============================] - 18s 350ms/step - loss: 1.2846e-04 - accuracy: 0.9932 - top_k_accuracy: 1.0000 - f1_score: 0.9917 - val_loss: 0.7912 - val_accuracy: 0.8496 - val_top_k_accuracy: 0.9558 - val_f1_score: 0.7925\n"
          ]
        }
      ],
      "source": [
        "vgg19_model.compile(\n",
        "    optimizer=Adam(learning_rate=1e-5),\n",
        "    loss=loss_function,\n",
        "    metrics=metrics\n",
        ")\n",
        "\n",
        "# Fine-tune the model\n",
        "history_fine_tune = vgg19_model.fit(\n",
        "    train_dataset.map(preprocess_vgg, num_parallel_calls=AUTOTUNE),\n",
        "    validation_data=validation_dataset.map(preprocess_vgg, num_parallel_calls=AUTOTUNE),\n",
        "    epochs=NUM_EPOCHS,\n",
        "    class_weight=class_weights,\n",
        "    verbose=1\n",
        ")"
      ]
    },
    {
      "cell_type": "code",
      "execution_count": null,
      "metadata": {
        "id": "SdHlww_Z--qX"
      },
      "outputs": [],
      "source": [
        "vgg19_model.save_weights('fine_tuned_weights_VGG.h5')"
      ]
    },
    {
      "cell_type": "markdown",
      "source": [
        "### Evaluation"
      ],
      "metadata": {
        "id": "_cnF2AWR2zsk"
      }
    },
    {
      "cell_type": "code",
      "source": [
        "print('EfficientNet B5:\\n')\n",
        "efficient_netB5_model.evaluate(test_dataset)\n",
        "print('\\nResNetV2:\\n')\n",
        "resnet_50v2_model.evaluate(test_dataset.map(preprocess_resnet, num_parallel_calls=AUTOTUNE))\n",
        "print('\\nInceptionV3:\\n')\n",
        "inception_v3_model.evaluate(test_dataset.map(preprocess_inception, num_parallel_calls=AUTOTUNE))\n",
        "print('\\nMobileNetV2:\\n')\n",
        "mobile_net_v2_model.evaluate(test_dataset.map(preprocess_mobile, num_parallel_calls=AUTOTUNE))\n",
        "print('\\nVGG19:\\n')\n",
        "vgg19_model.evaluate(test_dataset.map(preprocess_vgg, num_parallel_calls=AUTOTUNE))"
      ],
      "metadata": {
        "colab": {
          "base_uri": "https://localhost:8080/"
        },
        "id": "TZX4LvW028nr",
        "outputId": "ad8efb70-89f5-490e-cd3c-1953ea124939"
      },
      "execution_count": null,
      "outputs": [
        {
          "output_type": "stream",
          "name": "stdout",
          "text": [
            "EfficientNet B5:\n",
            "\n",
            "12/12 [==============================] - 3s 233ms/step - loss: 0.7602 - accuracy: 0.8375 - top_k_accuracy: 0.9664 - f1_score: 0.7776\n",
            "\n",
            "ResNetV2:\n",
            "\n",
            "12/12 [==============================] - 2s 103ms/step - loss: 0.7175 - accuracy: 0.8515 - top_k_accuracy: 0.9748 - f1_score: 0.7587\n",
            "\n",
            "InceptionV3:\n",
            "\n",
            "12/12 [==============================] - 1s 85ms/step - loss: 0.9060 - accuracy: 0.8039 - top_k_accuracy: 0.9384 - f1_score: 0.7230\n",
            "\n",
            "MobileNetV2:\n",
            "\n",
            "12/12 [==============================] - 1s 53ms/step - loss: 0.6935 - accuracy: 0.8459 - top_k_accuracy: 0.9608 - f1_score: 0.7843\n",
            "\n",
            "VGG19:\n",
            "\n",
            "12/12 [==============================] - 3s 180ms/step - loss: 0.6359 - accuracy: 0.8655 - top_k_accuracy: 0.9580 - f1_score: 0.7961\n"
          ]
        },
        {
          "output_type": "execute_result",
          "data": {
            "text/plain": [
              "[0.6359126567840576,\n",
              " 0.8655462265014648,\n",
              " 0.9579831957817078,\n",
              " array([0.5333333 , 0.86956525, 0.8000001 , 0.8474576 , 0.835821  ,\n",
              "        0.54545456, 0.97512436, 0.9090909 , 0.9195402 , 0.7252747 ],\n",
              "       dtype=float32)]"
            ]
          },
          "metadata": {},
          "execution_count": 63
        }
      ]
    },
    {
      "cell_type": "markdown",
      "metadata": {
        "id": "Cl9uRdLJVLUF"
      },
      "source": [
        "### Ensembling"
      ]
    },
    {
      "cell_type": "markdown",
      "source": [
        "#### Creating a Subnetwork"
      ],
      "metadata": {
        "id": "uJSXkBILIULT"
      }
    },
    {
      "cell_type": "code",
      "source": [
        "def preprocess_efficient(image):\n",
        "    return tf.keras.applications.efficientnet.preprocess_input(image)\n",
        "\n",
        "def preprocess_resnet(image):\n",
        "    return tf.keras.applications.resnet_v2.preprocess_input(image)\n",
        "\n",
        "def preprocess_inception(image):\n",
        "    return tf.keras.applications.inception_v3.preprocess_input(image)\n",
        "\n",
        "def preprocess_mobile(image):\n",
        "    return tf.keras.applications.mobilenet_v2.preprocess_input(image)\n",
        "\n",
        "def preprocess_vgg(image):\n",
        "    return tf.keras.applications.vgg19.preprocess_input(image)\n",
        "\n",
        "def create_subnetwork(preprocess_func, base_model):\n",
        "    inputs = Input(shape=(IMAGE_SIZE, IMAGE_SIZE, 3))\n",
        "    preprocessed = Lambda(preprocess_func)(inputs)\n",
        "    outputs = base_model(preprocessed)\n",
        "    return Model(inputs, outputs)\n",
        "\n",
        "efficient_netB5_subnet = create_subnetwork(preprocess_efficient, efficient_netB5_model)\n",
        "resnet_50v2_subnet = create_subnetwork(preprocess_resnet, resnet_50v2_model)\n",
        "inception_v3_subnet = create_subnetwork(preprocess_inception, inception_v3_model)\n",
        "mobile_net_v2_subnet = create_subnetwork(preprocess_mobile, mobile_net_v2_model)\n",
        "vgg19_subnet = create_subnetwork(preprocess_vgg, vgg19_model)"
      ],
      "metadata": {
        "id": "RJ1-D_j7IYGU"
      },
      "execution_count": null,
      "outputs": []
    },
    {
      "cell_type": "markdown",
      "source": [
        "#### Averaging"
      ],
      "metadata": {
        "id": "D4ACvsCg3Lom"
      }
    },
    {
      "cell_type": "code",
      "source": [
        "ensemble_inputs = Input(shape=(IMAGE_SIZE, IMAGE_SIZE, 3))\n",
        "\n",
        "y1 = efficient_netB5_subnet(ensemble_inputs)\n",
        "y2 = resnet_50v2_subnet(ensemble_inputs)\n",
        "y3 = inception_v3_subnet(ensemble_inputs)\n",
        "y4 = mobile_net_v2_subnet(ensemble_inputs)\n",
        "y5 = vgg19_subnet(ensemble_inputs)\n",
        "\n",
        "ensemble_output = (y1 + y2 + y3 + y4 + y5) / 5\n",
        "\n",
        "ensemble_model_avg = Model(inputs=ensemble_inputs, outputs=ensemble_output)"
      ],
      "metadata": {
        "id": "xM9eJm30IMDP"
      },
      "execution_count": null,
      "outputs": []
    },
    {
      "cell_type": "code",
      "source": [
        "ensemble_model_avg.compile(\n",
        "    optimizer=Adam(learning_rate=LEARNING_RATE),\n",
        "    loss=loss_function,\n",
        "    metrics=metrics\n",
        ")"
      ],
      "metadata": {
        "id": "jvOLiZOaLtdr"
      },
      "execution_count": null,
      "outputs": []
    },
    {
      "cell_type": "markdown",
      "source": [
        "#### Weighted Averaging"
      ],
      "metadata": {
        "id": "JEzplTi73PNo"
      }
    },
    {
      "cell_type": "code",
      "source": [
        "outputs = .2*y1 + .3*y2 + .1*y3 + .2*y4 + .2*y5\n",
        "\n",
        "ensemble_model_wavg = Model(inputs=ensemble_inputs, outputs=outputs)"
      ],
      "metadata": {
        "id": "bh6uP4n73VNx"
      },
      "execution_count": null,
      "outputs": []
    },
    {
      "cell_type": "code",
      "source": [
        "ensemble_model_wavg.compile(\n",
        "    optimizer=Adam(learning_rate=LEARNING_RATE),\n",
        "    loss=loss_function,\n",
        "    metrics=metrics\n",
        ")"
      ],
      "metadata": {
        "id": "5eFQb49V3jkF"
      },
      "execution_count": null,
      "outputs": []
    },
    {
      "cell_type": "markdown",
      "source": [
        "#### Stacking"
      ],
      "metadata": {
        "id": "p5Kfq2fA3rHl"
      }
    },
    {
      "cell_type": "code",
      "source": [
        "concatenated = Concatenate()([y1, y2, y3, y4, y5])\n",
        "x = Dense(128, activation='relu')(concatenated)\n",
        "x = Dense(NUM_CLASSES, activation='softmax')(x)\n",
        "\n",
        "ensemble_model_stack = Model(inputs=ensemble_inputs, outputs=x)"
      ],
      "metadata": {
        "id": "d7CcFndi3uLD"
      },
      "execution_count": null,
      "outputs": []
    },
    {
      "cell_type": "code",
      "source": [
        "ensemble_model_stack.compile(\n",
        "    optimizer=Adam(learning_rate=LEARNING_RATE),\n",
        "    loss=loss_function,\n",
        "    metrics=metrics\n",
        ")"
      ],
      "metadata": {
        "id": "pHW4GXGYM8Hn"
      },
      "execution_count": null,
      "outputs": []
    },
    {
      "cell_type": "markdown",
      "metadata": {
        "id": "kr7E4qL9Z0SJ"
      },
      "source": [
        "### Evaluation"
      ]
    },
    {
      "cell_type": "code",
      "execution_count": null,
      "metadata": {
        "colab": {
          "base_uri": "https://localhost:8080/"
        },
        "id": "MS9yfvD2Wsyp",
        "outputId": "936b717d-08a5-436e-d29a-14fe7bc8381a"
      },
      "outputs": [
        {
          "output_type": "stream",
          "name": "stdout",
          "text": [
            "Ensemble Model Average:\n",
            "\n",
            "12/12 [==============================] - 7s 584ms/step - loss: 0.3946 - accuracy: 0.8880 - top_k_accuracy: 0.9692 - f1_score: 0.8421\n",
            "\n",
            "Ensemble Model Weighted Average:\n",
            "\n",
            "12/12 [==============================] - 7s 590ms/step - loss: 0.3933 - accuracy: 0.8824 - top_k_accuracy: 0.9720 - f1_score: 0.8242\n",
            "\n",
            "Ensemble Model Stack:\n",
            "\n",
            "12/12 [==============================] - 16s 583ms/step - loss: 2.1978 - accuracy: 0.5462 - top_k_accuracy: 0.7759 - f1_score: 0.5653\n"
          ]
        },
        {
          "output_type": "execute_result",
          "data": {
            "text/plain": [
              "[2.1978118419647217,\n",
              " 0.5462185144424438,\n",
              " 0.7759103775024414,\n",
              " array([0.0657277 , 0.6296297 , 0.5192307 , 0.88709676, 0.7794118 ,\n",
              "        0.5       , 0.6511628 , 0.62809914, 0.5970149 , 0.39520958],\n",
              "       dtype=float32)]"
            ]
          },
          "metadata": {},
          "execution_count": 84
        }
      ],
      "source": [
        "print('Ensemble Model Average:\\n')\n",
        "ensemble_model_avg.evaluate(test_dataset)\n",
        "print('\\nEnsemble Model Weighted Average:\\n')\n",
        "ensemble_model_wavg.evaluate(test_dataset)\n",
        "print('\\nEnsemble Model Stack:\\n')\n",
        "ensemble_model_stack.evaluate(test_dataset)"
      ]
    },
    {
      "cell_type": "code",
      "execution_count": null,
      "metadata": {
        "id": "Bt0_3Z8bZvPz"
      },
      "outputs": [],
      "source": [
        "from google.colab import files"
      ]
    },
    {
      "cell_type": "code",
      "source": [
        "save_path = '/content/drive/MyDrive/Colab Notebooks/Projects/Metallic Surface Defect Classification'"
      ],
      "metadata": {
        "id": "Ck9RTrp9693p"
      },
      "execution_count": 12,
      "outputs": []
    },
    {
      "cell_type": "code",
      "execution_count": null,
      "metadata": {
        "id": "iODGCuae-ado"
      },
      "outputs": [],
      "source": [
        "ensemble_model_avg.save(save_path)"
      ]
    },
    {
      "cell_type": "code",
      "source": [
        "# Load the saved model\n",
        "loaded_model = load_model(save_path)"
      ],
      "metadata": {
        "id": "dRn_xMmaSQw2"
      },
      "execution_count": 13,
      "outputs": []
    },
    {
      "cell_type": "code",
      "source": [
        "predicted = []\n",
        "labels = []\n",
        "\n",
        "for im, label in test_dataset:\n",
        "  predicted.append(loaded_model(im))\n",
        "  labels.append(label.numpy())\n",
        "\n",
        "print(np.concatenate([np.argmax(labels[:-1], axis = -1).flatten(), np.argmax(labels[-1], axis = -1).flatten()]))\n",
        "print(np.concatenate([np.argmax(predicted[:-1], axis = -1).flatten(), np.argmax(predicted[-1], axis = -1).flatten()]))"
      ],
      "metadata": {
        "colab": {
          "base_uri": "https://localhost:8080/"
        },
        "id": "yqT3xLYB7aT8",
        "outputId": "9e7fcb6a-dd8b-4160-fc58-0bb64fc8d255"
      },
      "execution_count": 15,
      "outputs": [
        {
          "output_type": "stream",
          "name": "stdout",
          "text": [
            "[1 1 8 6 5 6 3 5 6 4 9 3 6 7 6 8 0 8 6 8 1 3 4 6 4 9 4 1 2 9 6 3 6 0 4 0 6\n",
            " 4 1 2 9 9 4 3 9 6 2 6 1 0 4 6 6 6 9 6 6 6 7 1 6 8 4 8 6 3 8 3 5 7 6 8 4 7\n",
            " 9 9 4 6 0 6 6 2 6 6 6 9 8 9 3 7 8 4 6 1 1 9 4 8 1 1 6 3 1 7 6 1 6 3 3 4 7\n",
            " 4 3 8 6 4 3 9 3 9 6 6 8 8 3 1 1 6 1 6 6 1 9 8 2 6 6 6 2 1 8 4 4 9 9 8 9 2\n",
            " 6 6 6 6 6 9 8 2 2 8 7 1 9 4 2 7 6 4 6 3 6 2 6 2 7 9 9 6 7 1 8 7 6 2 2 3 6\n",
            " 8 3 8 4 6 7 3 6 8 8 2 9 7 8 7 1 7 8 0 6 9 1 4 2 4 9 3 4 2 8 6 7 6 4 9 6 9\n",
            " 4 0 6 3 6 4 6 6 4 6 3 3 6 4 6 6 8 1 5 9 7 2 5 6 1 6 6 8 8 6 7 8 2 3 9 8 2\n",
            " 3 1 6 6 6 6 6 1 9 6 6 1 1 8 2 6 9 8 1 7 2 9 0 8 7 6 9 2 6 1 9 1 0 9 4 8 4\n",
            " 4 9 1 6 1 9 2 9 2 6 5 3 6 2 6 6 9 8 2 6 7 8 6 3 6 8 8 6 8 6 7 6 3 8 6 6 6\n",
            " 2 8 3 6 6 6 2 6 4 3 8 6 2 2 4 2 1 9 2 9 1 3 9 3]\n",
            "[1 1 8 6 5 6 3 5 6 4 9 3 6 7 6 8 0 8 6 8 9 3 4 6 4 9 4 1 2 9 6 3 6 0 4 0 6\n",
            " 4 1 2 9 9 4 3 9 6 2 6 1 0 4 6 6 6 9 6 6 6 7 1 6 8 4 8 6 3 8 3 9 7 6 2 4 7\n",
            " 9 9 4 6 0 6 6 2 6 6 6 9 8 9 3 7 8 4 6 1 1 9 4 8 1 1 6 3 1 7 6 1 6 3 3 4 7\n",
            " 4 3 8 6 4 3 9 3 9 6 6 8 8 3 1 1 6 1 6 6 1 9 8 2 6 6 6 2 1 8 4 4 9 9 8 9 2\n",
            " 6 6 6 6 6 9 8 2 2 8 7 1 9 4 2 7 6 4 6 3 6 2 6 2 7 9 9 6 7 1 8 7 6 2 2 3 6\n",
            " 8 3 8 4 6 7 3 6 8 2 2 9 7 8 7 1 7 8 0 6 9 1 4 2 4 9 3 4 2 8 6 7 6 4 9 6 9\n",
            " 4 0 6 3 6 4 6 6 4 6 3 3 6 4 6 6 8 1 5 9 7 2 2 6 1 6 6 8 8 6 7 8 2 3 9 8 2\n",
            " 3 1 6 6 6 6 6 1 9 6 6 1 1 8 2 6 9 8 1 7 2 9 0 8 7 6 9 2 6 1 9 1 0 9 4 8 4\n",
            " 4 9 1 6 1 9 2 9 2 6 5 3 6 2 6 6 9 8 2 6 7 8 6 3 6 8 8 6 8 2 7 6 3 8 6 6 6\n",
            " 2 8 3 6 6 6 2 6 9 3 8 6 2 2 4 2 1 9 2 4 1 3 9 3]\n"
          ]
        }
      ]
    },
    {
      "cell_type": "code",
      "source": [
        "pred = np.concatenate([np.argmax(predicted[:-1], axis = -1).flatten(), np.argmax(predicted[-1], axis = -1).flatten()])\n",
        "lab = np.concatenate([np.argmax(labels[:-1], axis = -1).flatten(), np.argmax(labels[-1], axis = -1).flatten()])"
      ],
      "metadata": {
        "id": "iPO6Z3i07-ZN"
      },
      "execution_count": 17,
      "outputs": []
    },
    {
      "cell_type": "code",
      "source": [
        "cm = confusion_matrix(lab, pred)\n",
        "plt.figure(figsize=(8,8))\n",
        "\n",
        "sns.heatmap(cm, annot=True)\n",
        "plt.title('Confusion matrix')\n",
        "plt.ylabel('Actual')\n",
        "plt.xlabel('Predicted')"
      ],
      "metadata": {
        "colab": {
          "base_uri": "https://localhost:8080/",
          "height": 735
        },
        "id": "mvwJwltl8Jot",
        "outputId": "96c024ee-3a68-456d-eba2-01a9859523cb"
      },
      "execution_count": 19,
      "outputs": [
        {
          "output_type": "execute_result",
          "data": {
            "text/plain": [
              "Text(0.5, 58.7222222222222, 'Predicted')"
            ]
          },
          "metadata": {},
          "execution_count": 19
        },
        {
          "output_type": "display_data",
          "data": {
            "text/plain": [
              "<Figure size 800x800 with 2 Axes>"
            ],
            "image/png": "[encoded data removed]"
          },
          "metadata": {}
        }
      ]
    },
    {
      "cell_type": "code",
      "source": [],
      "metadata": {
        "id": "rcaqXZYTAQMc"
      },
      "execution_count": null,
      "outputs": []
    }
  ],
  "metadata": {
    "colab": {
      "toc_visible": true,
      "provenance": [],
      "mount_file_id": "1GvETWnePnWVBRPVbR_qMykwzVRaa3Fg-",
      "authorship_tag": "ABX9TyN4eNlh4r4MAHfHKDYA/Z85",
      "include_colab_link": true
    },
    "kernelspec": {
      "display_name": "Python 3",
      "name": "python3"
    },
    "language_info": {
      "name": "python"
    }
  },
  "nbformat": 4,
  "nbformat_minor": 0
}